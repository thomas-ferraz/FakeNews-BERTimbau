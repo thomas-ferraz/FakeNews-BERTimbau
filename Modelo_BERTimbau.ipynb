{
  "nbformat": 4,
  "nbformat_minor": 0,
  "metadata": {
    "colab": {
      "name": "Modelo BERTimbau.ipynb",
      "provenance": [],
      "include_colab_link": true
    },
    "kernelspec": {
      "name": "python3",
      "display_name": "Python 3"
    },
    "accelerator": "GPU",
    "widgets": {
      "application/vnd.jupyter.widget-state+json": {
        "7a8b54aa1e5f43d5aee45eec1a6e8fa7": {
          "model_module": "@jupyter-widgets/controls",
          "model_name": "HBoxModel",
          "state": {
            "_view_name": "HBoxView",
            "_dom_classes": [],
            "_model_name": "HBoxModel",
            "_view_module": "@jupyter-widgets/controls",
            "_model_module_version": "1.5.0",
            "_view_count": null,
            "_view_module_version": "1.5.0",
            "box_style": "",
            "layout": "IPY_MODEL_e51ef9dd616b4b3285e6b1e011b028cd",
            "_model_module": "@jupyter-widgets/controls",
            "children": [
              "IPY_MODEL_a695ac99bed947af964b4d350366df52",
              "IPY_MODEL_136f9d59b2fc4782b254d32ab4526d24"
            ]
          }
        },
        "e51ef9dd616b4b3285e6b1e011b028cd": {
          "model_module": "@jupyter-widgets/base",
          "model_name": "LayoutModel",
          "state": {
            "_view_name": "LayoutView",
            "grid_template_rows": null,
            "right": null,
            "justify_content": null,
            "_view_module": "@jupyter-widgets/base",
            "overflow": null,
            "_model_module_version": "1.2.0",
            "_view_count": null,
            "flex_flow": null,
            "width": null,
            "min_width": null,
            "border": null,
            "align_items": null,
            "bottom": null,
            "_model_module": "@jupyter-widgets/base",
            "top": null,
            "grid_column": null,
            "overflow_y": null,
            "overflow_x": null,
            "grid_auto_flow": null,
            "grid_area": null,
            "grid_template_columns": null,
            "flex": null,
            "_model_name": "LayoutModel",
            "justify_items": null,
            "grid_row": null,
            "max_height": null,
            "align_content": null,
            "visibility": null,
            "align_self": null,
            "height": null,
            "min_height": null,
            "padding": null,
            "grid_auto_rows": null,
            "grid_gap": null,
            "max_width": null,
            "order": null,
            "_view_module_version": "1.2.0",
            "grid_template_areas": null,
            "object_position": null,
            "object_fit": null,
            "grid_auto_columns": null,
            "margin": null,
            "display": null,
            "left": null
          }
        },
        "a695ac99bed947af964b4d350366df52": {
          "model_module": "@jupyter-widgets/controls",
          "model_name": "FloatProgressModel",
          "state": {
            "_view_name": "ProgressView",
            "style": "IPY_MODEL_6f7d6fc30147417e9cf434e325a14f67",
            "_dom_classes": [],
            "description": "Downloading: 100%",
            "_model_name": "FloatProgressModel",
            "bar_style": "success",
            "max": 648,
            "_view_module": "@jupyter-widgets/controls",
            "_model_module_version": "1.5.0",
            "value": 648,
            "_view_count": null,
            "_view_module_version": "1.5.0",
            "orientation": "horizontal",
            "min": 0,
            "description_tooltip": null,
            "_model_module": "@jupyter-widgets/controls",
            "layout": "IPY_MODEL_0c3ef3e736174a2e8617cabda46a3254"
          }
        },
        "136f9d59b2fc4782b254d32ab4526d24": {
          "model_module": "@jupyter-widgets/controls",
          "model_name": "HTMLModel",
          "state": {
            "_view_name": "HTMLView",
            "style": "IPY_MODEL_8bb250b928684179885e3a2d91a1f65d",
            "_dom_classes": [],
            "description": "",
            "_model_name": "HTMLModel",
            "placeholder": "​",
            "_view_module": "@jupyter-widgets/controls",
            "_model_module_version": "1.5.0",
            "value": " 648/648 [00:00&lt;00:00, 1.30kB/s]",
            "_view_count": null,
            "_view_module_version": "1.5.0",
            "description_tooltip": null,
            "_model_module": "@jupyter-widgets/controls",
            "layout": "IPY_MODEL_f3d8b580fc4d4b5b9cff6a2ef7e6fdd9"
          }
        },
        "6f7d6fc30147417e9cf434e325a14f67": {
          "model_module": "@jupyter-widgets/controls",
          "model_name": "ProgressStyleModel",
          "state": {
            "_view_name": "StyleView",
            "_model_name": "ProgressStyleModel",
            "description_width": "initial",
            "_view_module": "@jupyter-widgets/base",
            "_model_module_version": "1.5.0",
            "_view_count": null,
            "_view_module_version": "1.2.0",
            "bar_color": null,
            "_model_module": "@jupyter-widgets/controls"
          }
        },
        "0c3ef3e736174a2e8617cabda46a3254": {
          "model_module": "@jupyter-widgets/base",
          "model_name": "LayoutModel",
          "state": {
            "_view_name": "LayoutView",
            "grid_template_rows": null,
            "right": null,
            "justify_content": null,
            "_view_module": "@jupyter-widgets/base",
            "overflow": null,
            "_model_module_version": "1.2.0",
            "_view_count": null,
            "flex_flow": null,
            "width": null,
            "min_width": null,
            "border": null,
            "align_items": null,
            "bottom": null,
            "_model_module": "@jupyter-widgets/base",
            "top": null,
            "grid_column": null,
            "overflow_y": null,
            "overflow_x": null,
            "grid_auto_flow": null,
            "grid_area": null,
            "grid_template_columns": null,
            "flex": null,
            "_model_name": "LayoutModel",
            "justify_items": null,
            "grid_row": null,
            "max_height": null,
            "align_content": null,
            "visibility": null,
            "align_self": null,
            "height": null,
            "min_height": null,
            "padding": null,
            "grid_auto_rows": null,
            "grid_gap": null,
            "max_width": null,
            "order": null,
            "_view_module_version": "1.2.0",
            "grid_template_areas": null,
            "object_position": null,
            "object_fit": null,
            "grid_auto_columns": null,
            "margin": null,
            "display": null,
            "left": null
          }
        },
        "8bb250b928684179885e3a2d91a1f65d": {
          "model_module": "@jupyter-widgets/controls",
          "model_name": "DescriptionStyleModel",
          "state": {
            "_view_name": "StyleView",
            "_model_name": "DescriptionStyleModel",
            "description_width": "",
            "_view_module": "@jupyter-widgets/base",
            "_model_module_version": "1.5.0",
            "_view_count": null,
            "_view_module_version": "1.2.0",
            "_model_module": "@jupyter-widgets/controls"
          }
        },
        "f3d8b580fc4d4b5b9cff6a2ef7e6fdd9": {
          "model_module": "@jupyter-widgets/base",
          "model_name": "LayoutModel",
          "state": {
            "_view_name": "LayoutView",
            "grid_template_rows": null,
            "right": null,
            "justify_content": null,
            "_view_module": "@jupyter-widgets/base",
            "overflow": null,
            "_model_module_version": "1.2.0",
            "_view_count": null,
            "flex_flow": null,
            "width": null,
            "min_width": null,
            "border": null,
            "align_items": null,
            "bottom": null,
            "_model_module": "@jupyter-widgets/base",
            "top": null,
            "grid_column": null,
            "overflow_y": null,
            "overflow_x": null,
            "grid_auto_flow": null,
            "grid_area": null,
            "grid_template_columns": null,
            "flex": null,
            "_model_name": "LayoutModel",
            "justify_items": null,
            "grid_row": null,
            "max_height": null,
            "align_content": null,
            "visibility": null,
            "align_self": null,
            "height": null,
            "min_height": null,
            "padding": null,
            "grid_auto_rows": null,
            "grid_gap": null,
            "max_width": null,
            "order": null,
            "_view_module_version": "1.2.0",
            "grid_template_areas": null,
            "object_position": null,
            "object_fit": null,
            "grid_auto_columns": null,
            "margin": null,
            "display": null,
            "left": null
          }
        },
        "7794a077616f4170a4c88042b53eb281": {
          "model_module": "@jupyter-widgets/controls",
          "model_name": "HBoxModel",
          "state": {
            "_view_name": "HBoxView",
            "_dom_classes": [],
            "_model_name": "HBoxModel",
            "_view_module": "@jupyter-widgets/controls",
            "_model_module_version": "1.5.0",
            "_view_count": null,
            "_view_module_version": "1.5.0",
            "box_style": "",
            "layout": "IPY_MODEL_f0b1fd5fa81549daa8e93d712c517ce5",
            "_model_module": "@jupyter-widgets/controls",
            "children": [
              "IPY_MODEL_e387785abd114c30b63488ae6188e4dd",
              "IPY_MODEL_faeb1ca248c04c2fbead999fb211d372"
            ]
          }
        },
        "f0b1fd5fa81549daa8e93d712c517ce5": {
          "model_module": "@jupyter-widgets/base",
          "model_name": "LayoutModel",
          "state": {
            "_view_name": "LayoutView",
            "grid_template_rows": null,
            "right": null,
            "justify_content": null,
            "_view_module": "@jupyter-widgets/base",
            "overflow": null,
            "_model_module_version": "1.2.0",
            "_view_count": null,
            "flex_flow": null,
            "width": null,
            "min_width": null,
            "border": null,
            "align_items": null,
            "bottom": null,
            "_model_module": "@jupyter-widgets/base",
            "top": null,
            "grid_column": null,
            "overflow_y": null,
            "overflow_x": null,
            "grid_auto_flow": null,
            "grid_area": null,
            "grid_template_columns": null,
            "flex": null,
            "_model_name": "LayoutModel",
            "justify_items": null,
            "grid_row": null,
            "max_height": null,
            "align_content": null,
            "visibility": null,
            "align_self": null,
            "height": null,
            "min_height": null,
            "padding": null,
            "grid_auto_rows": null,
            "grid_gap": null,
            "max_width": null,
            "order": null,
            "_view_module_version": "1.2.0",
            "grid_template_areas": null,
            "object_position": null,
            "object_fit": null,
            "grid_auto_columns": null,
            "margin": null,
            "display": null,
            "left": null
          }
        },
        "e387785abd114c30b63488ae6188e4dd": {
          "model_module": "@jupyter-widgets/controls",
          "model_name": "FloatProgressModel",
          "state": {
            "_view_name": "ProgressView",
            "style": "IPY_MODEL_2c4e8adb800c44b782bb351912f9c1a5",
            "_dom_classes": [],
            "description": "Downloading: 100%",
            "_model_name": "FloatProgressModel",
            "bar_style": "success",
            "max": 209528,
            "_view_module": "@jupyter-widgets/controls",
            "_model_module_version": "1.5.0",
            "value": 209528,
            "_view_count": null,
            "_view_module_version": "1.5.0",
            "orientation": "horizontal",
            "min": 0,
            "description_tooltip": null,
            "_model_module": "@jupyter-widgets/controls",
            "layout": "IPY_MODEL_a6c49f9b5c04422aada79ea39727107d"
          }
        },
        "faeb1ca248c04c2fbead999fb211d372": {
          "model_module": "@jupyter-widgets/controls",
          "model_name": "HTMLModel",
          "state": {
            "_view_name": "HTMLView",
            "style": "IPY_MODEL_56779c13113648baa97dea5669ac95ee",
            "_dom_classes": [],
            "description": "",
            "_model_name": "HTMLModel",
            "placeholder": "​",
            "_view_module": "@jupyter-widgets/controls",
            "_model_module_version": "1.5.0",
            "value": " 210k/210k [00:36&lt;00:00, 5.75kB/s]",
            "_view_count": null,
            "_view_module_version": "1.5.0",
            "description_tooltip": null,
            "_model_module": "@jupyter-widgets/controls",
            "layout": "IPY_MODEL_273eb3a1b99b49e9a8b96911f814bad4"
          }
        },
        "2c4e8adb800c44b782bb351912f9c1a5": {
          "model_module": "@jupyter-widgets/controls",
          "model_name": "ProgressStyleModel",
          "state": {
            "_view_name": "StyleView",
            "_model_name": "ProgressStyleModel",
            "description_width": "initial",
            "_view_module": "@jupyter-widgets/base",
            "_model_module_version": "1.5.0",
            "_view_count": null,
            "_view_module_version": "1.2.0",
            "bar_color": null,
            "_model_module": "@jupyter-widgets/controls"
          }
        },
        "a6c49f9b5c04422aada79ea39727107d": {
          "model_module": "@jupyter-widgets/base",
          "model_name": "LayoutModel",
          "state": {
            "_view_name": "LayoutView",
            "grid_template_rows": null,
            "right": null,
            "justify_content": null,
            "_view_module": "@jupyter-widgets/base",
            "overflow": null,
            "_model_module_version": "1.2.0",
            "_view_count": null,
            "flex_flow": null,
            "width": null,
            "min_width": null,
            "border": null,
            "align_items": null,
            "bottom": null,
            "_model_module": "@jupyter-widgets/base",
            "top": null,
            "grid_column": null,
            "overflow_y": null,
            "overflow_x": null,
            "grid_auto_flow": null,
            "grid_area": null,
            "grid_template_columns": null,
            "flex": null,
            "_model_name": "LayoutModel",
            "justify_items": null,
            "grid_row": null,
            "max_height": null,
            "align_content": null,
            "visibility": null,
            "align_self": null,
            "height": null,
            "min_height": null,
            "padding": null,
            "grid_auto_rows": null,
            "grid_gap": null,
            "max_width": null,
            "order": null,
            "_view_module_version": "1.2.0",
            "grid_template_areas": null,
            "object_position": null,
            "object_fit": null,
            "grid_auto_columns": null,
            "margin": null,
            "display": null,
            "left": null
          }
        },
        "56779c13113648baa97dea5669ac95ee": {
          "model_module": "@jupyter-widgets/controls",
          "model_name": "DescriptionStyleModel",
          "state": {
            "_view_name": "StyleView",
            "_model_name": "DescriptionStyleModel",
            "description_width": "",
            "_view_module": "@jupyter-widgets/base",
            "_model_module_version": "1.5.0",
            "_view_count": null,
            "_view_module_version": "1.2.0",
            "_model_module": "@jupyter-widgets/controls"
          }
        },
        "273eb3a1b99b49e9a8b96911f814bad4": {
          "model_module": "@jupyter-widgets/base",
          "model_name": "LayoutModel",
          "state": {
            "_view_name": "LayoutView",
            "grid_template_rows": null,
            "right": null,
            "justify_content": null,
            "_view_module": "@jupyter-widgets/base",
            "overflow": null,
            "_model_module_version": "1.2.0",
            "_view_count": null,
            "flex_flow": null,
            "width": null,
            "min_width": null,
            "border": null,
            "align_items": null,
            "bottom": null,
            "_model_module": "@jupyter-widgets/base",
            "top": null,
            "grid_column": null,
            "overflow_y": null,
            "overflow_x": null,
            "grid_auto_flow": null,
            "grid_area": null,
            "grid_template_columns": null,
            "flex": null,
            "_model_name": "LayoutModel",
            "justify_items": null,
            "grid_row": null,
            "max_height": null,
            "align_content": null,
            "visibility": null,
            "align_self": null,
            "height": null,
            "min_height": null,
            "padding": null,
            "grid_auto_rows": null,
            "grid_gap": null,
            "max_width": null,
            "order": null,
            "_view_module_version": "1.2.0",
            "grid_template_areas": null,
            "object_position": null,
            "object_fit": null,
            "grid_auto_columns": null,
            "margin": null,
            "display": null,
            "left": null
          }
        },
        "f24f898c9a4a495e8759ecaf6dd7265b": {
          "model_module": "@jupyter-widgets/controls",
          "model_name": "HBoxModel",
          "state": {
            "_view_name": "HBoxView",
            "_dom_classes": [],
            "_model_name": "HBoxModel",
            "_view_module": "@jupyter-widgets/controls",
            "_model_module_version": "1.5.0",
            "_view_count": null,
            "_view_module_version": "1.5.0",
            "box_style": "",
            "layout": "IPY_MODEL_43ee2c9988fd42c4a9b762a3d6145230",
            "_model_module": "@jupyter-widgets/controls",
            "children": [
              "IPY_MODEL_ccd33d30bf224546b45b864bd4ce215e",
              "IPY_MODEL_09a333ccbbdb4127802af23ff15c9b6d"
            ]
          }
        },
        "43ee2c9988fd42c4a9b762a3d6145230": {
          "model_module": "@jupyter-widgets/base",
          "model_name": "LayoutModel",
          "state": {
            "_view_name": "LayoutView",
            "grid_template_rows": null,
            "right": null,
            "justify_content": null,
            "_view_module": "@jupyter-widgets/base",
            "overflow": null,
            "_model_module_version": "1.2.0",
            "_view_count": null,
            "flex_flow": null,
            "width": null,
            "min_width": null,
            "border": null,
            "align_items": null,
            "bottom": null,
            "_model_module": "@jupyter-widgets/base",
            "top": null,
            "grid_column": null,
            "overflow_y": null,
            "overflow_x": null,
            "grid_auto_flow": null,
            "grid_area": null,
            "grid_template_columns": null,
            "flex": null,
            "_model_name": "LayoutModel",
            "justify_items": null,
            "grid_row": null,
            "max_height": null,
            "align_content": null,
            "visibility": null,
            "align_self": null,
            "height": null,
            "min_height": null,
            "padding": null,
            "grid_auto_rows": null,
            "grid_gap": null,
            "max_width": null,
            "order": null,
            "_view_module_version": "1.2.0",
            "grid_template_areas": null,
            "object_position": null,
            "object_fit": null,
            "grid_auto_columns": null,
            "margin": null,
            "display": null,
            "left": null
          }
        },
        "ccd33d30bf224546b45b864bd4ce215e": {
          "model_module": "@jupyter-widgets/controls",
          "model_name": "FloatProgressModel",
          "state": {
            "_view_name": "ProgressView",
            "style": "IPY_MODEL_688bb5d38fce4eefb1ca373ff5fafec9",
            "_dom_classes": [],
            "description": "Downloading: 100%",
            "_model_name": "FloatProgressModel",
            "bar_style": "success",
            "max": 2,
            "_view_module": "@jupyter-widgets/controls",
            "_model_module_version": "1.5.0",
            "value": 2,
            "_view_count": null,
            "_view_module_version": "1.5.0",
            "orientation": "horizontal",
            "min": 0,
            "description_tooltip": null,
            "_model_module": "@jupyter-widgets/controls",
            "layout": "IPY_MODEL_39db4e43a635468496e51341e8f16b21"
          }
        },
        "09a333ccbbdb4127802af23ff15c9b6d": {
          "model_module": "@jupyter-widgets/controls",
          "model_name": "HTMLModel",
          "state": {
            "_view_name": "HTMLView",
            "style": "IPY_MODEL_da66b87226c74c4492866938a307e5fc",
            "_dom_classes": [],
            "description": "",
            "_model_name": "HTMLModel",
            "placeholder": "​",
            "_view_module": "@jupyter-widgets/controls",
            "_model_module_version": "1.5.0",
            "value": " 2.00/2.00 [00:00&lt;00:00, 2.09B/s]",
            "_view_count": null,
            "_view_module_version": "1.5.0",
            "description_tooltip": null,
            "_model_module": "@jupyter-widgets/controls",
            "layout": "IPY_MODEL_013bae39cefa40a8b301419f44d87caa"
          }
        },
        "688bb5d38fce4eefb1ca373ff5fafec9": {
          "model_module": "@jupyter-widgets/controls",
          "model_name": "ProgressStyleModel",
          "state": {
            "_view_name": "StyleView",
            "_model_name": "ProgressStyleModel",
            "description_width": "initial",
            "_view_module": "@jupyter-widgets/base",
            "_model_module_version": "1.5.0",
            "_view_count": null,
            "_view_module_version": "1.2.0",
            "bar_color": null,
            "_model_module": "@jupyter-widgets/controls"
          }
        },
        "39db4e43a635468496e51341e8f16b21": {
          "model_module": "@jupyter-widgets/base",
          "model_name": "LayoutModel",
          "state": {
            "_view_name": "LayoutView",
            "grid_template_rows": null,
            "right": null,
            "justify_content": null,
            "_view_module": "@jupyter-widgets/base",
            "overflow": null,
            "_model_module_version": "1.2.0",
            "_view_count": null,
            "flex_flow": null,
            "width": null,
            "min_width": null,
            "border": null,
            "align_items": null,
            "bottom": null,
            "_model_module": "@jupyter-widgets/base",
            "top": null,
            "grid_column": null,
            "overflow_y": null,
            "overflow_x": null,
            "grid_auto_flow": null,
            "grid_area": null,
            "grid_template_columns": null,
            "flex": null,
            "_model_name": "LayoutModel",
            "justify_items": null,
            "grid_row": null,
            "max_height": null,
            "align_content": null,
            "visibility": null,
            "align_self": null,
            "height": null,
            "min_height": null,
            "padding": null,
            "grid_auto_rows": null,
            "grid_gap": null,
            "max_width": null,
            "order": null,
            "_view_module_version": "1.2.0",
            "grid_template_areas": null,
            "object_position": null,
            "object_fit": null,
            "grid_auto_columns": null,
            "margin": null,
            "display": null,
            "left": null
          }
        },
        "da66b87226c74c4492866938a307e5fc": {
          "model_module": "@jupyter-widgets/controls",
          "model_name": "DescriptionStyleModel",
          "state": {
            "_view_name": "StyleView",
            "_model_name": "DescriptionStyleModel",
            "description_width": "",
            "_view_module": "@jupyter-widgets/base",
            "_model_module_version": "1.5.0",
            "_view_count": null,
            "_view_module_version": "1.2.0",
            "_model_module": "@jupyter-widgets/controls"
          }
        },
        "013bae39cefa40a8b301419f44d87caa": {
          "model_module": "@jupyter-widgets/base",
          "model_name": "LayoutModel",
          "state": {
            "_view_name": "LayoutView",
            "grid_template_rows": null,
            "right": null,
            "justify_content": null,
            "_view_module": "@jupyter-widgets/base",
            "overflow": null,
            "_model_module_version": "1.2.0",
            "_view_count": null,
            "flex_flow": null,
            "width": null,
            "min_width": null,
            "border": null,
            "align_items": null,
            "bottom": null,
            "_model_module": "@jupyter-widgets/base",
            "top": null,
            "grid_column": null,
            "overflow_y": null,
            "overflow_x": null,
            "grid_auto_flow": null,
            "grid_area": null,
            "grid_template_columns": null,
            "flex": null,
            "_model_name": "LayoutModel",
            "justify_items": null,
            "grid_row": null,
            "max_height": null,
            "align_content": null,
            "visibility": null,
            "align_self": null,
            "height": null,
            "min_height": null,
            "padding": null,
            "grid_auto_rows": null,
            "grid_gap": null,
            "max_width": null,
            "order": null,
            "_view_module_version": "1.2.0",
            "grid_template_areas": null,
            "object_position": null,
            "object_fit": null,
            "grid_auto_columns": null,
            "margin": null,
            "display": null,
            "left": null
          }
        },
        "6253fb9c57c64c4fad8bae6bb213e964": {
          "model_module": "@jupyter-widgets/controls",
          "model_name": "HBoxModel",
          "state": {
            "_view_name": "HBoxView",
            "_dom_classes": [],
            "_model_name": "HBoxModel",
            "_view_module": "@jupyter-widgets/controls",
            "_model_module_version": "1.5.0",
            "_view_count": null,
            "_view_module_version": "1.5.0",
            "box_style": "",
            "layout": "IPY_MODEL_a6e4486c8d2446a08b551a791f38b671",
            "_model_module": "@jupyter-widgets/controls",
            "children": [
              "IPY_MODEL_3f0d5c6f20994948bcf9f942cab1e2da",
              "IPY_MODEL_8d0966b3f4954192a034d6f2bec838aa"
            ]
          }
        },
        "a6e4486c8d2446a08b551a791f38b671": {
          "model_module": "@jupyter-widgets/base",
          "model_name": "LayoutModel",
          "state": {
            "_view_name": "LayoutView",
            "grid_template_rows": null,
            "right": null,
            "justify_content": null,
            "_view_module": "@jupyter-widgets/base",
            "overflow": null,
            "_model_module_version": "1.2.0",
            "_view_count": null,
            "flex_flow": null,
            "width": null,
            "min_width": null,
            "border": null,
            "align_items": null,
            "bottom": null,
            "_model_module": "@jupyter-widgets/base",
            "top": null,
            "grid_column": null,
            "overflow_y": null,
            "overflow_x": null,
            "grid_auto_flow": null,
            "grid_area": null,
            "grid_template_columns": null,
            "flex": null,
            "_model_name": "LayoutModel",
            "justify_items": null,
            "grid_row": null,
            "max_height": null,
            "align_content": null,
            "visibility": null,
            "align_self": null,
            "height": null,
            "min_height": null,
            "padding": null,
            "grid_auto_rows": null,
            "grid_gap": null,
            "max_width": null,
            "order": null,
            "_view_module_version": "1.2.0",
            "grid_template_areas": null,
            "object_position": null,
            "object_fit": null,
            "grid_auto_columns": null,
            "margin": null,
            "display": null,
            "left": null
          }
        },
        "3f0d5c6f20994948bcf9f942cab1e2da": {
          "model_module": "@jupyter-widgets/controls",
          "model_name": "FloatProgressModel",
          "state": {
            "_view_name": "ProgressView",
            "style": "IPY_MODEL_00d9fb6ace744e3ab50c949e854f21e4",
            "_dom_classes": [],
            "description": "Downloading: 100%",
            "_model_name": "FloatProgressModel",
            "bar_style": "success",
            "max": 112,
            "_view_module": "@jupyter-widgets/controls",
            "_model_module_version": "1.5.0",
            "value": 112,
            "_view_count": null,
            "_view_module_version": "1.5.0",
            "orientation": "horizontal",
            "min": 0,
            "description_tooltip": null,
            "_model_module": "@jupyter-widgets/controls",
            "layout": "IPY_MODEL_b8e3239b57664b9190eebb3c7b95b8b3"
          }
        },
        "8d0966b3f4954192a034d6f2bec838aa": {
          "model_module": "@jupyter-widgets/controls",
          "model_name": "HTMLModel",
          "state": {
            "_view_name": "HTMLView",
            "style": "IPY_MODEL_f0418b21a2c3433dbf236eb82125bd14",
            "_dom_classes": [],
            "description": "",
            "_model_name": "HTMLModel",
            "placeholder": "​",
            "_view_module": "@jupyter-widgets/controls",
            "_model_module_version": "1.5.0",
            "value": " 112/112 [00:00&lt;00:00, 239B/s]",
            "_view_count": null,
            "_view_module_version": "1.5.0",
            "description_tooltip": null,
            "_model_module": "@jupyter-widgets/controls",
            "layout": "IPY_MODEL_c0b810570c65446293e73bbfb1757aee"
          }
        },
        "00d9fb6ace744e3ab50c949e854f21e4": {
          "model_module": "@jupyter-widgets/controls",
          "model_name": "ProgressStyleModel",
          "state": {
            "_view_name": "StyleView",
            "_model_name": "ProgressStyleModel",
            "description_width": "initial",
            "_view_module": "@jupyter-widgets/base",
            "_model_module_version": "1.5.0",
            "_view_count": null,
            "_view_module_version": "1.2.0",
            "bar_color": null,
            "_model_module": "@jupyter-widgets/controls"
          }
        },
        "b8e3239b57664b9190eebb3c7b95b8b3": {
          "model_module": "@jupyter-widgets/base",
          "model_name": "LayoutModel",
          "state": {
            "_view_name": "LayoutView",
            "grid_template_rows": null,
            "right": null,
            "justify_content": null,
            "_view_module": "@jupyter-widgets/base",
            "overflow": null,
            "_model_module_version": "1.2.0",
            "_view_count": null,
            "flex_flow": null,
            "width": null,
            "min_width": null,
            "border": null,
            "align_items": null,
            "bottom": null,
            "_model_module": "@jupyter-widgets/base",
            "top": null,
            "grid_column": null,
            "overflow_y": null,
            "overflow_x": null,
            "grid_auto_flow": null,
            "grid_area": null,
            "grid_template_columns": null,
            "flex": null,
            "_model_name": "LayoutModel",
            "justify_items": null,
            "grid_row": null,
            "max_height": null,
            "align_content": null,
            "visibility": null,
            "align_self": null,
            "height": null,
            "min_height": null,
            "padding": null,
            "grid_auto_rows": null,
            "grid_gap": null,
            "max_width": null,
            "order": null,
            "_view_module_version": "1.2.0",
            "grid_template_areas": null,
            "object_position": null,
            "object_fit": null,
            "grid_auto_columns": null,
            "margin": null,
            "display": null,
            "left": null
          }
        },
        "f0418b21a2c3433dbf236eb82125bd14": {
          "model_module": "@jupyter-widgets/controls",
          "model_name": "DescriptionStyleModel",
          "state": {
            "_view_name": "StyleView",
            "_model_name": "DescriptionStyleModel",
            "description_width": "",
            "_view_module": "@jupyter-widgets/base",
            "_model_module_version": "1.5.0",
            "_view_count": null,
            "_view_module_version": "1.2.0",
            "_model_module": "@jupyter-widgets/controls"
          }
        },
        "c0b810570c65446293e73bbfb1757aee": {
          "model_module": "@jupyter-widgets/base",
          "model_name": "LayoutModel",
          "state": {
            "_view_name": "LayoutView",
            "grid_template_rows": null,
            "right": null,
            "justify_content": null,
            "_view_module": "@jupyter-widgets/base",
            "overflow": null,
            "_model_module_version": "1.2.0",
            "_view_count": null,
            "flex_flow": null,
            "width": null,
            "min_width": null,
            "border": null,
            "align_items": null,
            "bottom": null,
            "_model_module": "@jupyter-widgets/base",
            "top": null,
            "grid_column": null,
            "overflow_y": null,
            "overflow_x": null,
            "grid_auto_flow": null,
            "grid_area": null,
            "grid_template_columns": null,
            "flex": null,
            "_model_name": "LayoutModel",
            "justify_items": null,
            "grid_row": null,
            "max_height": null,
            "align_content": null,
            "visibility": null,
            "align_self": null,
            "height": null,
            "min_height": null,
            "padding": null,
            "grid_auto_rows": null,
            "grid_gap": null,
            "max_width": null,
            "order": null,
            "_view_module_version": "1.2.0",
            "grid_template_areas": null,
            "object_position": null,
            "object_fit": null,
            "grid_auto_columns": null,
            "margin": null,
            "display": null,
            "left": null
          }
        },
        "8ab9f98c5a0b494a8da3165e50fcd23c": {
          "model_module": "@jupyter-widgets/controls",
          "model_name": "HBoxModel",
          "state": {
            "_view_name": "HBoxView",
            "_dom_classes": [],
            "_model_name": "HBoxModel",
            "_view_module": "@jupyter-widgets/controls",
            "_model_module_version": "1.5.0",
            "_view_count": null,
            "_view_module_version": "1.5.0",
            "box_style": "",
            "layout": "IPY_MODEL_ea550814d8504ad3b74bb9ace45837a1",
            "_model_module": "@jupyter-widgets/controls",
            "children": [
              "IPY_MODEL_b8b5422fa0c642479e72fedb6af3bf64",
              "IPY_MODEL_f0d56c13074e4430a6eedc5cc42b8209"
            ]
          }
        },
        "ea550814d8504ad3b74bb9ace45837a1": {
          "model_module": "@jupyter-widgets/base",
          "model_name": "LayoutModel",
          "state": {
            "_view_name": "LayoutView",
            "grid_template_rows": null,
            "right": null,
            "justify_content": null,
            "_view_module": "@jupyter-widgets/base",
            "overflow": null,
            "_model_module_version": "1.2.0",
            "_view_count": null,
            "flex_flow": null,
            "width": null,
            "min_width": null,
            "border": null,
            "align_items": null,
            "bottom": null,
            "_model_module": "@jupyter-widgets/base",
            "top": null,
            "grid_column": null,
            "overflow_y": null,
            "overflow_x": null,
            "grid_auto_flow": null,
            "grid_area": null,
            "grid_template_columns": null,
            "flex": null,
            "_model_name": "LayoutModel",
            "justify_items": null,
            "grid_row": null,
            "max_height": null,
            "align_content": null,
            "visibility": null,
            "align_self": null,
            "height": null,
            "min_height": null,
            "padding": null,
            "grid_auto_rows": null,
            "grid_gap": null,
            "max_width": null,
            "order": null,
            "_view_module_version": "1.2.0",
            "grid_template_areas": null,
            "object_position": null,
            "object_fit": null,
            "grid_auto_columns": null,
            "margin": null,
            "display": null,
            "left": null
          }
        },
        "b8b5422fa0c642479e72fedb6af3bf64": {
          "model_module": "@jupyter-widgets/controls",
          "model_name": "FloatProgressModel",
          "state": {
            "_view_name": "ProgressView",
            "style": "IPY_MODEL_669e259b68204dddb872c8a134ba37fa",
            "_dom_classes": [],
            "description": "Downloading: 100%",
            "_model_name": "FloatProgressModel",
            "bar_style": "success",
            "max": 155,
            "_view_module": "@jupyter-widgets/controls",
            "_model_module_version": "1.5.0",
            "value": 155,
            "_view_count": null,
            "_view_module_version": "1.5.0",
            "orientation": "horizontal",
            "min": 0,
            "description_tooltip": null,
            "_model_module": "@jupyter-widgets/controls",
            "layout": "IPY_MODEL_0cca77a35058492eaf0ba55159458812"
          }
        },
        "f0d56c13074e4430a6eedc5cc42b8209": {
          "model_module": "@jupyter-widgets/controls",
          "model_name": "HTMLModel",
          "state": {
            "_view_name": "HTMLView",
            "style": "IPY_MODEL_d4877dbb749742b5bfbed8695dedc00b",
            "_dom_classes": [],
            "description": "",
            "_model_name": "HTMLModel",
            "placeholder": "​",
            "_view_module": "@jupyter-widgets/controls",
            "_model_module_version": "1.5.0",
            "value": " 155/155 [00:00&lt;00:00, 2.30kB/s]",
            "_view_count": null,
            "_view_module_version": "1.5.0",
            "description_tooltip": null,
            "_model_module": "@jupyter-widgets/controls",
            "layout": "IPY_MODEL_440430e65869466daf8f69e8419d7b53"
          }
        },
        "669e259b68204dddb872c8a134ba37fa": {
          "model_module": "@jupyter-widgets/controls",
          "model_name": "ProgressStyleModel",
          "state": {
            "_view_name": "StyleView",
            "_model_name": "ProgressStyleModel",
            "description_width": "initial",
            "_view_module": "@jupyter-widgets/base",
            "_model_module_version": "1.5.0",
            "_view_count": null,
            "_view_module_version": "1.2.0",
            "bar_color": null,
            "_model_module": "@jupyter-widgets/controls"
          }
        },
        "0cca77a35058492eaf0ba55159458812": {
          "model_module": "@jupyter-widgets/base",
          "model_name": "LayoutModel",
          "state": {
            "_view_name": "LayoutView",
            "grid_template_rows": null,
            "right": null,
            "justify_content": null,
            "_view_module": "@jupyter-widgets/base",
            "overflow": null,
            "_model_module_version": "1.2.0",
            "_view_count": null,
            "flex_flow": null,
            "width": null,
            "min_width": null,
            "border": null,
            "align_items": null,
            "bottom": null,
            "_model_module": "@jupyter-widgets/base",
            "top": null,
            "grid_column": null,
            "overflow_y": null,
            "overflow_x": null,
            "grid_auto_flow": null,
            "grid_area": null,
            "grid_template_columns": null,
            "flex": null,
            "_model_name": "LayoutModel",
            "justify_items": null,
            "grid_row": null,
            "max_height": null,
            "align_content": null,
            "visibility": null,
            "align_self": null,
            "height": null,
            "min_height": null,
            "padding": null,
            "grid_auto_rows": null,
            "grid_gap": null,
            "max_width": null,
            "order": null,
            "_view_module_version": "1.2.0",
            "grid_template_areas": null,
            "object_position": null,
            "object_fit": null,
            "grid_auto_columns": null,
            "margin": null,
            "display": null,
            "left": null
          }
        },
        "d4877dbb749742b5bfbed8695dedc00b": {
          "model_module": "@jupyter-widgets/controls",
          "model_name": "DescriptionStyleModel",
          "state": {
            "_view_name": "StyleView",
            "_model_name": "DescriptionStyleModel",
            "description_width": "",
            "_view_module": "@jupyter-widgets/base",
            "_model_module_version": "1.5.0",
            "_view_count": null,
            "_view_module_version": "1.2.0",
            "_model_module": "@jupyter-widgets/controls"
          }
        },
        "440430e65869466daf8f69e8419d7b53": {
          "model_module": "@jupyter-widgets/base",
          "model_name": "LayoutModel",
          "state": {
            "_view_name": "LayoutView",
            "grid_template_rows": null,
            "right": null,
            "justify_content": null,
            "_view_module": "@jupyter-widgets/base",
            "overflow": null,
            "_model_module_version": "1.2.0",
            "_view_count": null,
            "flex_flow": null,
            "width": null,
            "min_width": null,
            "border": null,
            "align_items": null,
            "bottom": null,
            "_model_module": "@jupyter-widgets/base",
            "top": null,
            "grid_column": null,
            "overflow_y": null,
            "overflow_x": null,
            "grid_auto_flow": null,
            "grid_area": null,
            "grid_template_columns": null,
            "flex": null,
            "_model_name": "LayoutModel",
            "justify_items": null,
            "grid_row": null,
            "max_height": null,
            "align_content": null,
            "visibility": null,
            "align_self": null,
            "height": null,
            "min_height": null,
            "padding": null,
            "grid_auto_rows": null,
            "grid_gap": null,
            "max_width": null,
            "order": null,
            "_view_module_version": "1.2.0",
            "grid_template_areas": null,
            "object_position": null,
            "object_fit": null,
            "grid_auto_columns": null,
            "margin": null,
            "display": null,
            "left": null
          }
        }
      }
    }
  },
  "cells": [
    {
      "cell_type": "markdown",
      "metadata": {
        "id": "view-in-github",
        "colab_type": "text"
      },
      "source": [
        "<a href=\"https://colab.research.google.com/github/thomas-ferraz/FakeNews-BERTimbau/blob/main/Modelo_BERTimbau.ipynb\" target=\"_parent\"><img src=\"https://colab.research.google.com/assets/colab-badge.svg\" alt=\"Open In Colab\"/></a>"
      ]
    },
    {
      "cell_type": "markdown",
      "metadata": {
        "id": "uMYJMH6KSIg_"
      },
      "source": [
        "# Initial Requirements"
      ]
    },
    {
      "cell_type": "code",
      "metadata": {
        "id": "Qp6280-Y3oJ0",
        "colab": {
          "base_uri": "https://localhost:8080/"
        },
        "outputId": "9f49589d-c9ed-4205-dcd3-05d4ad3ea534"
      },
      "source": [
        "!pip install transformers"
      ],
      "execution_count": 1,
      "outputs": [
        {
          "output_type": "stream",
          "text": [
            "Collecting transformers\n",
            "\u001b[?25l  Downloading https://files.pythonhosted.org/packages/50/0c/7d5950fcd80b029be0a8891727ba21e0cd27692c407c51261c3c921f6da3/transformers-4.1.1-py3-none-any.whl (1.5MB)\n",
            "\u001b[K     |████████████████████████████████| 1.5MB 7.9MB/s \n",
            "\u001b[?25hCollecting tokenizers==0.9.4\n",
            "\u001b[?25l  Downloading https://files.pythonhosted.org/packages/0f/1c/e789a8b12e28be5bc1ce2156cf87cb522b379be9cadc7ad8091a4cc107c4/tokenizers-0.9.4-cp36-cp36m-manylinux2010_x86_64.whl (2.9MB)\n",
            "\u001b[K     |████████████████████████████████| 2.9MB 32.6MB/s \n",
            "\u001b[?25hRequirement already satisfied: tqdm>=4.27 in /usr/local/lib/python3.6/dist-packages (from transformers) (4.41.1)\n",
            "Requirement already satisfied: filelock in /usr/local/lib/python3.6/dist-packages (from transformers) (3.0.12)\n",
            "Requirement already satisfied: packaging in /usr/local/lib/python3.6/dist-packages (from transformers) (20.8)\n",
            "Requirement already satisfied: requests in /usr/local/lib/python3.6/dist-packages (from transformers) (2.23.0)\n",
            "Requirement already satisfied: dataclasses; python_version < \"3.7\" in /usr/local/lib/python3.6/dist-packages (from transformers) (0.8)\n",
            "Collecting sacremoses\n",
            "\u001b[?25l  Downloading https://files.pythonhosted.org/packages/7d/34/09d19aff26edcc8eb2a01bed8e98f13a1537005d31e95233fd48216eed10/sacremoses-0.0.43.tar.gz (883kB)\n",
            "\u001b[K     |████████████████████████████████| 890kB 53.2MB/s \n",
            "\u001b[?25hRequirement already satisfied: regex!=2019.12.17 in /usr/local/lib/python3.6/dist-packages (from transformers) (2019.12.20)\n",
            "Requirement already satisfied: numpy in /usr/local/lib/python3.6/dist-packages (from transformers) (1.19.4)\n",
            "Requirement already satisfied: pyparsing>=2.0.2 in /usr/local/lib/python3.6/dist-packages (from packaging->transformers) (2.4.7)\n",
            "Requirement already satisfied: urllib3!=1.25.0,!=1.25.1,<1.26,>=1.21.1 in /usr/local/lib/python3.6/dist-packages (from requests->transformers) (1.24.3)\n",
            "Requirement already satisfied: idna<3,>=2.5 in /usr/local/lib/python3.6/dist-packages (from requests->transformers) (2.10)\n",
            "Requirement already satisfied: chardet<4,>=3.0.2 in /usr/local/lib/python3.6/dist-packages (from requests->transformers) (3.0.4)\n",
            "Requirement already satisfied: certifi>=2017.4.17 in /usr/local/lib/python3.6/dist-packages (from requests->transformers) (2020.12.5)\n",
            "Requirement already satisfied: six in /usr/local/lib/python3.6/dist-packages (from sacremoses->transformers) (1.15.0)\n",
            "Requirement already satisfied: click in /usr/local/lib/python3.6/dist-packages (from sacremoses->transformers) (7.1.2)\n",
            "Requirement already satisfied: joblib in /usr/local/lib/python3.6/dist-packages (from sacremoses->transformers) (1.0.0)\n",
            "Building wheels for collected packages: sacremoses\n",
            "  Building wheel for sacremoses (setup.py) ... \u001b[?25l\u001b[?25hdone\n",
            "  Created wheel for sacremoses: filename=sacremoses-0.0.43-cp36-none-any.whl size=893261 sha256=0aa1c432c6f7b625a7015890f36721e03f0f1a84e7bfc5c75e50ffb1fe87c57b\n",
            "  Stored in directory: /root/.cache/pip/wheels/29/3c/fd/7ce5c3f0666dab31a50123635e6fb5e19ceb42ce38d4e58f45\n",
            "Successfully built sacremoses\n",
            "Installing collected packages: tokenizers, sacremoses, transformers\n",
            "Successfully installed sacremoses-0.0.43 tokenizers-0.9.4 transformers-4.1.1\n"
          ],
          "name": "stdout"
        }
      ]
    },
    {
      "cell_type": "code",
      "metadata": {
        "id": "tKibKPSj3Vo_",
        "colab": {
          "base_uri": "https://localhost:8080/",
          "height": 362
        },
        "outputId": "4a110bf3-0aaf-4e53-a42c-5a6f3585eebf"
      },
      "source": [
        "import pandas as pd, numpy as np\n",
        "import tensorflow as tf\n",
        "import tensorflow.keras.backend as K\n",
        "from sklearn.model_selection import StratifiedKFold\n",
        "from transformers import *\n",
        "import tokenizers\n",
        "print('TF version',tf.__version__)"
      ],
      "execution_count": 1,
      "outputs": [
        {
          "output_type": "error",
          "ename": "ModuleNotFoundError",
          "evalue": "ignored",
          "traceback": [
            "\u001b[0;31m---------------------------------------------------------------------------\u001b[0m",
            "\u001b[0;31mModuleNotFoundError\u001b[0m                       Traceback (most recent call last)",
            "\u001b[0;32m<ipython-input-1-77c11f6f8610>\u001b[0m in \u001b[0;36m<module>\u001b[0;34m()\u001b[0m\n\u001b[1;32m      3\u001b[0m \u001b[0;32mimport\u001b[0m \u001b[0mtensorflow\u001b[0m\u001b[0;34m.\u001b[0m\u001b[0mkeras\u001b[0m\u001b[0;34m.\u001b[0m\u001b[0mbackend\u001b[0m \u001b[0;32mas\u001b[0m \u001b[0mK\u001b[0m\u001b[0;34m\u001b[0m\u001b[0;34m\u001b[0m\u001b[0m\n\u001b[1;32m      4\u001b[0m \u001b[0;32mfrom\u001b[0m \u001b[0msklearn\u001b[0m\u001b[0;34m.\u001b[0m\u001b[0mmodel_selection\u001b[0m \u001b[0;32mimport\u001b[0m \u001b[0mStratifiedKFold\u001b[0m\u001b[0;34m\u001b[0m\u001b[0;34m\u001b[0m\u001b[0m\n\u001b[0;32m----> 5\u001b[0;31m \u001b[0;32mfrom\u001b[0m \u001b[0mtransformers\u001b[0m \u001b[0;32mimport\u001b[0m \u001b[0;34m*\u001b[0m\u001b[0;34m\u001b[0m\u001b[0;34m\u001b[0m\u001b[0m\n\u001b[0m\u001b[1;32m      6\u001b[0m \u001b[0;32mimport\u001b[0m \u001b[0mtokenizers\u001b[0m\u001b[0;34m\u001b[0m\u001b[0;34m\u001b[0m\u001b[0m\n\u001b[1;32m      7\u001b[0m \u001b[0mprint\u001b[0m\u001b[0;34m(\u001b[0m\u001b[0;34m'TF version'\u001b[0m\u001b[0;34m,\u001b[0m\u001b[0mtf\u001b[0m\u001b[0;34m.\u001b[0m\u001b[0m__version__\u001b[0m\u001b[0;34m)\u001b[0m\u001b[0;34m\u001b[0m\u001b[0;34m\u001b[0m\u001b[0m\n",
            "\u001b[0;31mModuleNotFoundError\u001b[0m: No module named 'transformers'",
            "",
            "\u001b[0;31m---------------------------------------------------------------------------\u001b[0;32m\nNOTE: If your import is failing due to a missing package, you can\nmanually install dependencies using either !pip or !apt.\n\nTo view examples of installing some common dependencies, click the\n\"Open Examples\" button below.\n\u001b[0;31m---------------------------------------------------------------------------\u001b[0m\n"
          ]
        }
      ]
    },
    {
      "cell_type": "code",
      "metadata": {
        "id": "i6SXZV0lWCq8"
      },
      "source": [
        "import json\n",
        "import tensorflow as tf\n",
        "import csv\n",
        "import random\n",
        "import numpy as np\n",
        "import sklearn\n",
        "\n",
        "#from tensorflow.keras.preprocessing.text import Tokenizer\n",
        "#from tensorflow.keras.preprocessing.sequence import pad_sequences\n",
        "#from tensorflow.keras.utils import to_categorical\n",
        "#from tensorflow.keras import regularizers"
      ],
      "execution_count": 3,
      "outputs": []
    },
    {
      "cell_type": "code",
      "metadata": {
        "id": "YQCZNgcBeuO1"
      },
      "source": [
        "import numpy as np\r\n",
        "import pandas as pd\r\n",
        "import matplotlib.pyplot as plt\r\n",
        "import seaborn as sns"
      ],
      "execution_count": 4,
      "outputs": []
    },
    {
      "cell_type": "markdown",
      "metadata": {
        "id": "xsYgc2PkYHgS"
      },
      "source": [
        "# Dataset"
      ]
    },
    {
      "cell_type": "code",
      "metadata": {
        "id": "mpcJB3LzFpLP"
      },
      "source": [
        "import pandas as pd\r\n",
        "true=pd.read_csv('https://raw.githubusercontent.com/thomas-ferraz/FakeNews-BERTimbau/main/dataset/true.csv')\r\n",
        "fake=pd.read_csv('https://raw.githubusercontent.com/thomas-ferraz/FakeNews-BERTimbau/main/dataset/fake.csv')"
      ],
      "execution_count": 5,
      "outputs": []
    },
    {
      "cell_type": "code",
      "metadata": {
        "colab": {
          "base_uri": "https://localhost:8080/",
          "height": 196
        },
        "id": "M864niNqFsvJ",
        "outputId": "8f32d221-5741-4cd4-e781-55290c39ea35"
      },
      "source": [
        "true.head()"
      ],
      "execution_count": 6,
      "outputs": [
        {
          "output_type": "execute_result",
          "data": {
            "text/html": [
              "<div>\n",
              "<style scoped>\n",
              "    .dataframe tbody tr th:only-of-type {\n",
              "        vertical-align: middle;\n",
              "    }\n",
              "\n",
              "    .dataframe tbody tr th {\n",
              "        vertical-align: top;\n",
              "    }\n",
              "\n",
              "    .dataframe thead th {\n",
              "        text-align: right;\n",
              "    }\n",
              "</style>\n",
              "<table border=\"1\" class=\"dataframe\">\n",
              "  <thead>\n",
              "    <tr style=\"text-align: right;\">\n",
              "      <th></th>\n",
              "      <th>text</th>\n",
              "    </tr>\n",
              "  </thead>\n",
              "  <tbody>\n",
              "    <tr>\n",
              "      <th>0</th>\n",
              "      <td>﻿O Podemos decidiu  expulsar o deputado federa...</td>\n",
              "    </tr>\n",
              "    <tr>\n",
              "      <th>1</th>\n",
              "      <td>Bolsonaro é um liberal completo, diz president...</td>\n",
              "    </tr>\n",
              "    <tr>\n",
              "      <th>2</th>\n",
              "      <td>Ministro do STF libera Andrea Neves de prisão ...</td>\n",
              "    </tr>\n",
              "    <tr>\n",
              "      <th>3</th>\n",
              "      <td>Apesar da abundância, cresce preocupação com p...</td>\n",
              "    </tr>\n",
              "    <tr>\n",
              "      <th>4</th>\n",
              "      <td>Por que Harvard e MIT levarão Dilma, Moro e Su...</td>\n",
              "    </tr>\n",
              "  </tbody>\n",
              "</table>\n",
              "</div>"
            ],
            "text/plain": [
              "                                                text\n",
              "0  ﻿O Podemos decidiu  expulsar o deputado federa...\n",
              "1  Bolsonaro é um liberal completo, diz president...\n",
              "2  Ministro do STF libera Andrea Neves de prisão ...\n",
              "3  Apesar da abundância, cresce preocupação com p...\n",
              "4  Por que Harvard e MIT levarão Dilma, Moro e Su..."
            ]
          },
          "metadata": {
            "tags": []
          },
          "execution_count": 6
        }
      ]
    },
    {
      "cell_type": "code",
      "metadata": {
        "colab": {
          "base_uri": "https://localhost:8080/"
        },
        "id": "sPyW4e-QFxZT",
        "outputId": "0475a243-07d5-46ee-cb80-271f1d4affe4"
      },
      "source": [
        "true.shape"
      ],
      "execution_count": 9,
      "outputs": [
        {
          "output_type": "execute_result",
          "data": {
            "text/plain": [
              "(3600, 1)"
            ]
          },
          "metadata": {
            "tags": []
          },
          "execution_count": 9
        }
      ]
    },
    {
      "cell_type": "code",
      "metadata": {
        "colab": {
          "base_uri": "https://localhost:8080/",
          "height": 196
        },
        "id": "OlgXPk2mF_aQ",
        "outputId": "e967406c-d9db-40a7-c0c1-4f64313c8f0e"
      },
      "source": [
        "fake.head()"
      ],
      "execution_count": 10,
      "outputs": [
        {
          "output_type": "execute_result",
          "data": {
            "text/html": [
              "<div>\n",
              "<style scoped>\n",
              "    .dataframe tbody tr th:only-of-type {\n",
              "        vertical-align: middle;\n",
              "    }\n",
              "\n",
              "    .dataframe tbody tr th {\n",
              "        vertical-align: top;\n",
              "    }\n",
              "\n",
              "    .dataframe thead th {\n",
              "        text-align: right;\n",
              "    }\n",
              "</style>\n",
              "<table border=\"1\" class=\"dataframe\">\n",
              "  <thead>\n",
              "    <tr style=\"text-align: right;\">\n",
              "      <th></th>\n",
              "      <th>text</th>\n",
              "    </tr>\n",
              "  </thead>\n",
              "  <tbody>\n",
              "    <tr>\n",
              "      <th>0</th>\n",
              "      <td>Kátia Abreu diz que vai colocar sua expulsão e...</td>\n",
              "    </tr>\n",
              "    <tr>\n",
              "      <th>1</th>\n",
              "      <td>Dr. Ray peita Bolsonaro, chama-o de conservad...</td>\n",
              "    </tr>\n",
              "    <tr>\n",
              "      <th>2</th>\n",
              "      <td>Reinaldo Azevedo desmascarado pela Polícia Fed...</td>\n",
              "    </tr>\n",
              "    <tr>\n",
              "      <th>3</th>\n",
              "      <td>Relatório assustador do BNDES mostra dinheiro ...</td>\n",
              "    </tr>\n",
              "    <tr>\n",
              "      <th>4</th>\n",
              "      <td>Radialista americano fala sobre o PT: \"Eles ve...</td>\n",
              "    </tr>\n",
              "  </tbody>\n",
              "</table>\n",
              "</div>"
            ],
            "text/plain": [
              "                                                text\n",
              "0  Kátia Abreu diz que vai colocar sua expulsão e...\n",
              "1  Dr. Ray peita Bolsonaro, chama-o de conservad...\n",
              "2  Reinaldo Azevedo desmascarado pela Polícia Fed...\n",
              "3  Relatório assustador do BNDES mostra dinheiro ...\n",
              "4  Radialista americano fala sobre o PT: \"Eles ve..."
            ]
          },
          "metadata": {
            "tags": []
          },
          "execution_count": 10
        }
      ]
    },
    {
      "cell_type": "code",
      "metadata": {
        "id": "9T3hYx5_W5dw"
      },
      "source": [
        "def clean_text(text):\r\n",
        "  return text.replace('\\n', ' ').replace('\\t', ' ').replace('   ', ' ').replace('  ', ' ')\r\n",
        "\r\n",
        "def calc_len(text):\r\n",
        "  return len(text.split(' '))"
      ],
      "execution_count": 6,
      "outputs": []
    },
    {
      "cell_type": "code",
      "metadata": {
        "id": "VCZHB0PCcmrP"
      },
      "source": [
        "true['class'] = 0\r\n",
        "fake['class'] = 1\r\n",
        "df=pd.concat([true,fake], ignore_index=True)"
      ],
      "execution_count": 8,
      "outputs": []
    },
    {
      "cell_type": "code",
      "metadata": {
        "colab": {
          "base_uri": "https://localhost:8080/",
          "height": 196
        },
        "id": "IgtUGHN3cxd7",
        "outputId": "f42fc36c-936b-48ac-e2e5-c1bc189ab836"
      },
      "source": [
        "df['text'] = df['text'].apply(clean_text)\r\n",
        "df.head()"
      ],
      "execution_count": 9,
      "outputs": [
        {
          "output_type": "execute_result",
          "data": {
            "text/html": [
              "<div>\n",
              "<style scoped>\n",
              "    .dataframe tbody tr th:only-of-type {\n",
              "        vertical-align: middle;\n",
              "    }\n",
              "\n",
              "    .dataframe tbody tr th {\n",
              "        vertical-align: top;\n",
              "    }\n",
              "\n",
              "    .dataframe thead th {\n",
              "        text-align: right;\n",
              "    }\n",
              "</style>\n",
              "<table border=\"1\" class=\"dataframe\">\n",
              "  <thead>\n",
              "    <tr style=\"text-align: right;\">\n",
              "      <th></th>\n",
              "      <th>text</th>\n",
              "      <th>class</th>\n",
              "    </tr>\n",
              "  </thead>\n",
              "  <tbody>\n",
              "    <tr>\n",
              "      <th>0</th>\n",
              "      <td>﻿O Podemos decidiu expulsar o deputado federal...</td>\n",
              "      <td>0</td>\n",
              "    </tr>\n",
              "    <tr>\n",
              "      <th>1</th>\n",
              "      <td>Bolsonaro é um liberal completo, diz president...</td>\n",
              "      <td>0</td>\n",
              "    </tr>\n",
              "    <tr>\n",
              "      <th>2</th>\n",
              "      <td>Ministro do STF libera Andrea Neves de prisão ...</td>\n",
              "      <td>0</td>\n",
              "    </tr>\n",
              "    <tr>\n",
              "      <th>3</th>\n",
              "      <td>Apesar da abundância, cresce preocupação com p...</td>\n",
              "      <td>0</td>\n",
              "    </tr>\n",
              "    <tr>\n",
              "      <th>4</th>\n",
              "      <td>Por que Harvard e MIT levarão Dilma, Moro e Su...</td>\n",
              "      <td>0</td>\n",
              "    </tr>\n",
              "  </tbody>\n",
              "</table>\n",
              "</div>"
            ],
            "text/plain": [
              "                                                text  class\n",
              "0  ﻿O Podemos decidiu expulsar o deputado federal...      0\n",
              "1  Bolsonaro é um liberal completo, diz president...      0\n",
              "2  Ministro do STF libera Andrea Neves de prisão ...      0\n",
              "3  Apesar da abundância, cresce preocupação com p...      0\n",
              "4  Por que Harvard e MIT levarão Dilma, Moro e Su...      0"
            ]
          },
          "metadata": {
            "tags": []
          },
          "execution_count": 9
        }
      ]
    },
    {
      "cell_type": "code",
      "metadata": {
        "colab": {
          "base_uri": "https://localhost:8080/",
          "height": 196
        },
        "id": "rSMRMWxbc8mX",
        "outputId": "c5745036-86e0-42d8-b472-659fcc277b4b"
      },
      "source": [
        "df['len'] = df['text'].apply(calc_len)\r\n",
        "df.head()"
      ],
      "execution_count": 10,
      "outputs": [
        {
          "output_type": "execute_result",
          "data": {
            "text/html": [
              "<div>\n",
              "<style scoped>\n",
              "    .dataframe tbody tr th:only-of-type {\n",
              "        vertical-align: middle;\n",
              "    }\n",
              "\n",
              "    .dataframe tbody tr th {\n",
              "        vertical-align: top;\n",
              "    }\n",
              "\n",
              "    .dataframe thead th {\n",
              "        text-align: right;\n",
              "    }\n",
              "</style>\n",
              "<table border=\"1\" class=\"dataframe\">\n",
              "  <thead>\n",
              "    <tr style=\"text-align: right;\">\n",
              "      <th></th>\n",
              "      <th>text</th>\n",
              "      <th>class</th>\n",
              "      <th>len</th>\n",
              "    </tr>\n",
              "  </thead>\n",
              "  <tbody>\n",
              "    <tr>\n",
              "      <th>0</th>\n",
              "      <td>﻿O Podemos decidiu expulsar o deputado federal...</td>\n",
              "      <td>0</td>\n",
              "      <td>147</td>\n",
              "    </tr>\n",
              "    <tr>\n",
              "      <th>1</th>\n",
              "      <td>Bolsonaro é um liberal completo, diz president...</td>\n",
              "      <td>0</td>\n",
              "      <td>856</td>\n",
              "    </tr>\n",
              "    <tr>\n",
              "      <th>2</th>\n",
              "      <td>Ministro do STF libera Andrea Neves de prisão ...</td>\n",
              "      <td>0</td>\n",
              "      <td>472</td>\n",
              "    </tr>\n",
              "    <tr>\n",
              "      <th>3</th>\n",
              "      <td>Apesar da abundância, cresce preocupação com p...</td>\n",
              "      <td>0</td>\n",
              "      <td>7517</td>\n",
              "    </tr>\n",
              "    <tr>\n",
              "      <th>4</th>\n",
              "      <td>Por que Harvard e MIT levarão Dilma, Moro e Su...</td>\n",
              "      <td>0</td>\n",
              "      <td>812</td>\n",
              "    </tr>\n",
              "  </tbody>\n",
              "</table>\n",
              "</div>"
            ],
            "text/plain": [
              "                                                text  class   len\n",
              "0  ﻿O Podemos decidiu expulsar o deputado federal...      0   147\n",
              "1  Bolsonaro é um liberal completo, diz president...      0   856\n",
              "2  Ministro do STF libera Andrea Neves de prisão ...      0   472\n",
              "3  Apesar da abundância, cresce preocupação com p...      0  7517\n",
              "4  Por que Harvard e MIT levarão Dilma, Moro e Su...      0   812"
            ]
          },
          "metadata": {
            "tags": []
          },
          "execution_count": 10
        }
      ]
    },
    {
      "cell_type": "code",
      "metadata": {
        "colab": {
          "base_uri": "https://localhost:8080/",
          "height": 349
        },
        "id": "KBPDkaeUeHo0",
        "outputId": "37186b0d-293b-442c-bcfc-fa44d9198475"
      },
      "source": [
        "sns.countplot(df['class'])"
      ],
      "execution_count": 15,
      "outputs": [
        {
          "output_type": "stream",
          "text": [
            "/usr/local/lib/python3.6/dist-packages/seaborn/_decorators.py:43: FutureWarning: Pass the following variable as a keyword arg: x. From version 0.12, the only valid positional argument will be `data`, and passing other arguments without an explicit keyword will result in an error or misinterpretation.\n",
            "  FutureWarning\n"
          ],
          "name": "stderr"
        },
        {
          "output_type": "execute_result",
          "data": {
            "text/plain": [
              "<matplotlib.axes._subplots.AxesSubplot at 0x7f2fa3d1ec50>"
            ]
          },
          "metadata": {
            "tags": []
          },
          "execution_count": 15
        },
        {
          "output_type": "display_data",
          "data": {
            "image/png": "[encoded data removed]",
            "text/plain": [
              "<Figure size 432x288 with 1 Axes>"
            ]
          },
          "metadata": {
            "tags": [],
            "needs_background": "light"
          }
        }
      ]
    },
    {
      "cell_type": "code",
      "metadata": {
        "colab": {
          "base_uri": "https://localhost:8080/",
          "height": 279
        },
        "id": "4fIhiXVqex25",
        "outputId": "a34adad0-4d49-4ef7-df70-a39c5984a70e"
      },
      "source": [
        "ax = sns.boxplot(x=\"class\", y=\"len\", data=df)"
      ],
      "execution_count": 16,
      "outputs": [
        {
          "output_type": "display_data",
          "data": {
            "image/png": "[encoded data removed]",
            "text/plain": [
              "<Figure size 432x288 with 1 Axes>"
            ]
          },
          "metadata": {
            "tags": [],
            "needs_background": "light"
          }
        }
      ]
    },
    {
      "cell_type": "code",
      "metadata": {
        "id": "81H68YMKjjaV"
      },
      "source": [
        "#Separar treino e test do treinamento\r\n",
        "\r\n",
        "#aleatorizar e separar a 0\r\n",
        "df_train=df.loc[df['class'] == 0].sample(frac=0.7,random_state=12) #random state is a seed value\r\n",
        "df_val=df.loc[df['class'] == 0].drop(df_train.index)\r\n",
        "\r\n",
        "#aleatorizar e separar a 1\r\n",
        "df_train2=df.loc[df['class'] == 1].sample(frac=0.7,random_state=12) #random state is a seed value\r\n",
        "df_val2=df.loc[df['class'] == 1].drop(df_train2.index)\r\n",
        "\r\n",
        "#Juntar\r\n",
        "df_train = pd.concat([df_train, df_train2])\r\n",
        "df_val = pd.concat([df_val, df_val2])\r\n",
        "\r\n",
        "#aleatorizar\r\n",
        "from sklearn.utils import shuffle\r\n",
        "df_train = shuffle(df_train, random_state=12)\r\n",
        "df_val = shuffle(df_val, random_state=12)"
      ],
      "execution_count": 11,
      "outputs": []
    },
    {
      "cell_type": "code",
      "metadata": {
        "id": "RUaRC_2ukC6A"
      },
      "source": [
        "X_val = df_val['text'].to_numpy()\r\n",
        "X_train = df_train['text'].to_numpy()\r\n",
        "Y_val = df_val['class'].to_numpy()\r\n",
        "Y_train = df_train['class'].to_numpy()"
      ],
      "execution_count": 12,
      "outputs": []
    },
    {
      "cell_type": "markdown",
      "metadata": {
        "id": "EYg9cE9cjB8M"
      },
      "source": [
        "# Model 1 - Linear SVM"
      ]
    },
    {
      "cell_type": "code",
      "metadata": {
        "id": "WYut_8JDkeGE"
      },
      "source": [
        "import matplotlib.pyplot as plt\r\n",
        "from sklearn import linear_model\r\n",
        "from scipy.special import expit\r\n",
        "from sklearn.feature_extraction.text import CountVectorizer\r\n",
        "from sklearn import feature_extraction, linear_model, model_selection, preprocessing\r\n",
        "from sklearn.metrics import accuracy_score\r\n",
        "from sklearn.model_selection import train_test_split\r\n",
        "from sklearn.feature_extraction.text import TfidfTransformer\r\n",
        "from sklearn.pipeline import Pipeline\r\n",
        "from sklearn.svm import LinearSVC\r\n",
        "from sklearn.naive_bayes import GaussianNB\r\n",
        "from sklearn.metrics import classification_report,confusion_matrix,accuracy_score\r\n",
        "from sklearn import metrics\r\n",
        "from wordcloud import WordCloud,STOPWORDS\r\n",
        "from nltk.corpus import stopwords\r\n",
        "import re,string,unicodedata\r\n",
        "import nltk"
      ],
      "execution_count": 14,
      "outputs": []
    },
    {
      "cell_type": "code",
      "metadata": {
        "colab": {
          "base_uri": "https://localhost:8080/"
        },
        "id": "6JYdTNDoniZ4",
        "outputId": "92218867-e4d6-4680-c40d-2b6f562438e0"
      },
      "source": [
        "nltk.download('stopwords')"
      ],
      "execution_count": 15,
      "outputs": [
        {
          "output_type": "stream",
          "text": [
            "[nltk_data] Downloading package stopwords to /root/nltk_data...\n",
            "[nltk_data]   Unzipping corpora/stopwords.zip.\n"
          ],
          "name": "stdout"
        },
        {
          "output_type": "execute_result",
          "data": {
            "text/plain": [
              "True"
            ]
          },
          "metadata": {
            "tags": []
          },
          "execution_count": 15
        }
      ]
    },
    {
      "cell_type": "code",
      "metadata": {
        "id": "4C2jcgi3ndLK"
      },
      "source": [
        "stop = set(nltk.corpus.stopwords.words('portuguese'))\r\n",
        "punctuation = list(string.punctuation)\r\n",
        "stop.update(punctuation)"
      ],
      "execution_count": 16,
      "outputs": []
    },
    {
      "cell_type": "code",
      "metadata": {
        "id": "JYwk059bjedP"
      },
      "source": [
        "pipe1 = Pipeline([('vect', CountVectorizer(stop_words=stop)),\r\n",
        "                 ('tfidf', TfidfTransformer()),\r\n",
        "                 ('model', LinearSVC())])\r\n",
        "\r\n",
        "model1 = pipe1.fit(X_train, Y_train)\r\n",
        "Y_pred = model1.predict(X_val)"
      ],
      "execution_count": 90,
      "outputs": []
    },
    {
      "cell_type": "code",
      "metadata": {
        "colab": {
          "base_uri": "https://localhost:8080/"
        },
        "id": "qyjnODjqoFN2",
        "outputId": "0b3a4245-9550-452e-faf7-7eece6b4341c"
      },
      "source": [
        "print(classification_report(Y_val, Y_pred))"
      ],
      "execution_count": 91,
      "outputs": [
        {
          "output_type": "stream",
          "text": [
            "              precision    recall  f1-score   support\n",
            "\n",
            "           0       0.98      0.96      0.97      1080\n",
            "           1       0.96      0.98      0.97      1080\n",
            "\n",
            "    accuracy                           0.97      2160\n",
            "   macro avg       0.97      0.97      0.97      2160\n",
            "weighted avg       0.97      0.97      0.97      2160\n",
            "\n"
          ],
          "name": "stdout"
        }
      ]
    },
    {
      "cell_type": "code",
      "metadata": {
        "colab": {
          "base_uri": "https://localhost:8080/",
          "height": 296
        },
        "id": "hJ_gCdLDoRlT",
        "outputId": "7adf3003-1e03-4f9b-90a5-c998b0364f05"
      },
      "source": [
        "conf_matrix = metrics.confusion_matrix(Y_val, Y_pred)\r\n",
        "metrics.ConfusionMatrixDisplay(conf_matrix, display_labels=[0,1]).plot()"
      ],
      "execution_count": 98,
      "outputs": [
        {
          "output_type": "execute_result",
          "data": {
            "text/plain": [
              "<sklearn.metrics._plot.confusion_matrix.ConfusionMatrixDisplay at 0x7fd781609d30>"
            ]
          },
          "metadata": {
            "tags": []
          },
          "execution_count": 98
        },
        {
          "output_type": "display_data",
          "data": {
            "image/png": "[encoded data removed]",
            "text/plain": [
              "<Figure size 432x288 with 2 Axes>"
            ]
          },
          "metadata": {
            "tags": [],
            "needs_background": "light"
          }
        }
      ]
    },
    {
      "cell_type": "code",
      "metadata": {
        "colab": {
          "base_uri": "https://localhost:8080/",
          "height": 279
        },
        "id": "bp4wQ9PYqSHG",
        "outputId": "5b28e824-fc49-4521-c30a-c39bab940129"
      },
      "source": [
        "metrics.plot_confusion_matrix(model1,X_val,Y_val,labels=[0,1],normalize='true')\r\n",
        "plt.show()"
      ],
      "execution_count": 100,
      "outputs": [
        {
          "output_type": "display_data",
          "data": {
            "image/png": "[encoded data removed]",
            "text/plain": [
              "<Figure size 432x288 with 2 Axes>"
            ]
          },
          "metadata": {
            "tags": [],
            "needs_background": "light"
          }
        }
      ]
    },
    {
      "cell_type": "markdown",
      "metadata": {
        "id": "5uTiBcQDrngn"
      },
      "source": [
        "# Modelo 2 - Naive Bayes"
      ]
    },
    {
      "cell_type": "code",
      "metadata": {
        "id": "YmsIy3I1rHsF"
      },
      "source": [
        "from sklearn.naive_bayes import MultinomialNB\r\n",
        "pipe2 = Pipeline([('vect', CountVectorizer(stop_words=stop)),\r\n",
        "                  ('tfidf', TfidfTransformer()),\r\n",
        "                  ('clf', MultinomialNB()),])\r\n",
        "\r\n",
        "model2 = pipe2.fit(X_train, Y_train)\r\n",
        "Y_pred2 = model2.predict(X_val)"
      ],
      "execution_count": 104,
      "outputs": []
    },
    {
      "cell_type": "code",
      "metadata": {
        "colab": {
          "base_uri": "https://localhost:8080/"
        },
        "id": "USZJmSKUrs69",
        "outputId": "c8c6ba12-8c82-4971-d7ca-ac5a1ee64dcb"
      },
      "source": [
        "print(classification_report(Y_val, Y_pred2))"
      ],
      "execution_count": 105,
      "outputs": [
        {
          "output_type": "stream",
          "text": [
            "              precision    recall  f1-score   support\n",
            "\n",
            "           0       0.56      1.00      0.72      1080\n",
            "           1       0.99      0.22      0.37      1080\n",
            "\n",
            "    accuracy                           0.61      2160\n",
            "   macro avg       0.78      0.61      0.54      2160\n",
            "weighted avg       0.78      0.61      0.54      2160\n",
            "\n"
          ],
          "name": "stdout"
        }
      ]
    },
    {
      "cell_type": "code",
      "metadata": {
        "colab": {
          "base_uri": "https://localhost:8080/",
          "height": 296
        },
        "id": "iC09tRtMrv3r",
        "outputId": "44425ccc-4b1d-43c9-980a-d0e25ec3da37"
      },
      "source": [
        "conf_matrix = metrics.confusion_matrix(Y_val, Y_pred2)\r\n",
        "metrics.ConfusionMatrixDisplay(conf_matrix, display_labels=[0,1]).plot()"
      ],
      "execution_count": 106,
      "outputs": [
        {
          "output_type": "execute_result",
          "data": {
            "text/plain": [
              "<sklearn.metrics._plot.confusion_matrix.ConfusionMatrixDisplay at 0x7fd7821713c8>"
            ]
          },
          "metadata": {
            "tags": []
          },
          "execution_count": 106
        },
        {
          "output_type": "display_data",
          "data": {
            "image/png": "[encoded data removed]",
            "text/plain": [
              "<Figure size 432x288 with 2 Axes>"
            ]
          },
          "metadata": {
            "tags": [],
            "needs_background": "light"
          }
        }
      ]
    },
    {
      "cell_type": "code",
      "metadata": {
        "colab": {
          "base_uri": "https://localhost:8080/",
          "height": 279
        },
        "id": "V9YvK612sCUE",
        "outputId": "572588da-b7d7-45c2-a8b9-a3afcd12fddc"
      },
      "source": [
        "metrics.plot_confusion_matrix(model2,X_val,Y_val,labels=[0,1],normalize='true')\r\n",
        "plt.show()"
      ],
      "execution_count": 107,
      "outputs": [
        {
          "output_type": "display_data",
          "data": {
            "image/png": "[encoded data removed]",
            "text/plain": [
              "<Figure size 432x288 with 2 Axes>"
            ]
          },
          "metadata": {
            "tags": [],
            "needs_background": "light"
          }
        }
      ]
    },
    {
      "cell_type": "markdown",
      "metadata": {
        "id": "JP4QXbm9inxf"
      },
      "source": [
        "# Modelo 2A - Decision Tree"
      ]
    },
    {
      "cell_type": "code",
      "metadata": {
        "id": "RrpoCqq6inxi"
      },
      "source": [
        "from sklearn.tree import DecisionTreeClassifier\r\n",
        "pipe2 = Pipeline([('vect', CountVectorizer(stop_words=stop)),\r\n",
        "                  ('tfidf', TfidfTransformer()),\r\n",
        "                  ('clf', DecisionTreeClassifier(random_state=12)),])\r\n",
        "\r\n",
        "model2 = pipe2.fit(X_train, Y_train)\r\n",
        "Y_pred2 = model2.predict(X_val)"
      ],
      "execution_count": 17,
      "outputs": []
    },
    {
      "cell_type": "code",
      "metadata": {
        "colab": {
          "base_uri": "https://localhost:8080/"
        },
        "id": "j74g78pWivIi",
        "outputId": "131d71e2-9b57-4293-988a-44b87f67701c"
      },
      "source": [
        "print(classification_report(Y_val, Y_pred2))"
      ],
      "execution_count": 18,
      "outputs": [
        {
          "output_type": "stream",
          "text": [
            "              precision    recall  f1-score   support\n",
            "\n",
            "           0       0.91      0.87      0.89      1080\n",
            "           1       0.88      0.92      0.90      1080\n",
            "\n",
            "    accuracy                           0.89      2160\n",
            "   macro avg       0.90      0.89      0.89      2160\n",
            "weighted avg       0.90      0.89      0.89      2160\n",
            "\n"
          ],
          "name": "stdout"
        }
      ]
    },
    {
      "cell_type": "code",
      "metadata": {
        "colab": {
          "base_uri": "https://localhost:8080/",
          "height": 296
        },
        "id": "iZW-MhCcivIi",
        "outputId": "145dcb70-2ac1-4621-e328-d314e7fe982d"
      },
      "source": [
        "conf_matrix = metrics.confusion_matrix(Y_val, Y_pred2)\r\n",
        "metrics.ConfusionMatrixDisplay(conf_matrix, display_labels=[0,1]).plot()"
      ],
      "execution_count": 19,
      "outputs": [
        {
          "output_type": "execute_result",
          "data": {
            "text/plain": [
              "<sklearn.metrics._plot.confusion_matrix.ConfusionMatrixDisplay at 0x7f07aa02f630>"
            ]
          },
          "metadata": {
            "tags": []
          },
          "execution_count": 19
        },
        {
          "output_type": "display_data",
          "data": {
            "image/png": "[encoded data removed]",
            "text/plain": [
              "<Figure size 432x288 with 2 Axes>"
            ]
          },
          "metadata": {
            "tags": [],
            "needs_background": "light"
          }
        }
      ]
    },
    {
      "cell_type": "code",
      "metadata": {
        "colab": {
          "base_uri": "https://localhost:8080/",
          "height": 279
        },
        "id": "TGvZ0nvFivIi",
        "outputId": "8983243c-61d1-4c75-b12f-2d6d7c275eeb"
      },
      "source": [
        "metrics.plot_confusion_matrix(model2,X_val,Y_val,labels=[0,1],normalize='true')\r\n",
        "plt.show()"
      ],
      "execution_count": 20,
      "outputs": [
        {
          "output_type": "display_data",
          "data": {
            "image/png": "[encoded data removed]",
            "text/plain": [
              "<Figure size 432x288 with 2 Axes>"
            ]
          },
          "metadata": {
            "tags": [],
            "needs_background": "light"
          }
        }
      ]
    },
    {
      "cell_type": "markdown",
      "metadata": {
        "id": "7hjUhttLdUEJ"
      },
      "source": [
        "# Initialize BERTimbau"
      ]
    },
    {
      "cell_type": "code",
      "metadata": {
        "colab": {
          "base_uri": "https://localhost:8080/",
          "height": 260,
          "referenced_widgets": [
            "7a8b54aa1e5f43d5aee45eec1a6e8fa7",
            "e51ef9dd616b4b3285e6b1e011b028cd",
            "a695ac99bed947af964b4d350366df52",
            "136f9d59b2fc4782b254d32ab4526d24",
            "6f7d6fc30147417e9cf434e325a14f67",
            "0c3ef3e736174a2e8617cabda46a3254",
            "8bb250b928684179885e3a2d91a1f65d",
            "f3d8b580fc4d4b5b9cff6a2ef7e6fdd9",
            "7794a077616f4170a4c88042b53eb281",
            "f0b1fd5fa81549daa8e93d712c517ce5",
            "e387785abd114c30b63488ae6188e4dd",
            "faeb1ca248c04c2fbead999fb211d372",
            "2c4e8adb800c44b782bb351912f9c1a5",
            "a6c49f9b5c04422aada79ea39727107d",
            "56779c13113648baa97dea5669ac95ee",
            "273eb3a1b99b49e9a8b96911f814bad4",
            "f24f898c9a4a495e8759ecaf6dd7265b",
            "43ee2c9988fd42c4a9b762a3d6145230",
            "ccd33d30bf224546b45b864bd4ce215e",
            "09a333ccbbdb4127802af23ff15c9b6d",
            "688bb5d38fce4eefb1ca373ff5fafec9",
            "39db4e43a635468496e51341e8f16b21",
            "da66b87226c74c4492866938a307e5fc",
            "013bae39cefa40a8b301419f44d87caa",
            "6253fb9c57c64c4fad8bae6bb213e964",
            "a6e4486c8d2446a08b551a791f38b671",
            "3f0d5c6f20994948bcf9f942cab1e2da",
            "8d0966b3f4954192a034d6f2bec838aa",
            "00d9fb6ace744e3ab50c949e854f21e4",
            "b8e3239b57664b9190eebb3c7b95b8b3",
            "f0418b21a2c3433dbf236eb82125bd14",
            "c0b810570c65446293e73bbfb1757aee",
            "8ab9f98c5a0b494a8da3165e50fcd23c",
            "ea550814d8504ad3b74bb9ace45837a1",
            "b8b5422fa0c642479e72fedb6af3bf64",
            "f0d56c13074e4430a6eedc5cc42b8209",
            "669e259b68204dddb872c8a134ba37fa",
            "0cca77a35058492eaf0ba55159458812",
            "d4877dbb749742b5bfbed8695dedc00b",
            "440430e65869466daf8f69e8419d7b53"
          ]
        },
        "id": "cKS2-ZYIP6Bq",
        "outputId": "d9776e7e-f0a7-4e34-8bc1-37e86350dfb9"
      },
      "source": [
        "from transformers import AutoConfig, AutoTokenizer, TFAutoModel\r\n",
        "\r\n",
        "Tokenizer = AutoTokenizer.from_pretrained('neuralmind/bert-large-portuguese-cased')"
      ],
      "execution_count": 12,
      "outputs": [
        {
          "output_type": "display_data",
          "data": {
            "application/vnd.jupyter.widget-view+json": {
              "model_id": "7a8b54aa1e5f43d5aee45eec1a6e8fa7",
              "version_minor": 0,
              "version_major": 2
            },
            "text/plain": [
              "HBox(children=(FloatProgress(value=0.0, description='Downloading', max=648.0, style=ProgressStyle(description_…"
            ]
          },
          "metadata": {
            "tags": []
          }
        },
        {
          "output_type": "stream",
          "text": [
            "\n"
          ],
          "name": "stdout"
        },
        {
          "output_type": "display_data",
          "data": {
            "application/vnd.jupyter.widget-view+json": {
              "model_id": "7794a077616f4170a4c88042b53eb281",
              "version_minor": 0,
              "version_major": 2
            },
            "text/plain": [
              "HBox(children=(FloatProgress(value=0.0, description='Downloading', max=209528.0, style=ProgressStyle(descripti…"
            ]
          },
          "metadata": {
            "tags": []
          }
        },
        {
          "output_type": "stream",
          "text": [
            "\n"
          ],
          "name": "stdout"
        },
        {
          "output_type": "display_data",
          "data": {
            "application/vnd.jupyter.widget-view+json": {
              "model_id": "f24f898c9a4a495e8759ecaf6dd7265b",
              "version_minor": 0,
              "version_major": 2
            },
            "text/plain": [
              "HBox(children=(FloatProgress(value=0.0, description='Downloading', max=2.0, style=ProgressStyle(description_wi…"
            ]
          },
          "metadata": {
            "tags": []
          }
        },
        {
          "output_type": "stream",
          "text": [
            "\n"
          ],
          "name": "stdout"
        },
        {
          "output_type": "display_data",
          "data": {
            "application/vnd.jupyter.widget-view+json": {
              "model_id": "6253fb9c57c64c4fad8bae6bb213e964",
              "version_minor": 0,
              "version_major": 2
            },
            "text/plain": [
              "HBox(children=(FloatProgress(value=0.0, description='Downloading', max=112.0, style=ProgressStyle(description_…"
            ]
          },
          "metadata": {
            "tags": []
          }
        },
        {
          "output_type": "stream",
          "text": [
            "\n"
          ],
          "name": "stdout"
        },
        {
          "output_type": "display_data",
          "data": {
            "application/vnd.jupyter.widget-view+json": {
              "model_id": "8ab9f98c5a0b494a8da3165e50fcd23c",
              "version_minor": 0,
              "version_major": 2
            },
            "text/plain": [
              "HBox(children=(FloatProgress(value=0.0, description='Downloading', max=155.0, style=ProgressStyle(description_…"
            ]
          },
          "metadata": {
            "tags": []
          }
        },
        {
          "output_type": "stream",
          "text": [
            "\n"
          ],
          "name": "stdout"
        }
      ]
    },
    {
      "cell_type": "code",
      "metadata": {
        "id": "SOqEGTeuxO0I"
      },
      "source": [
        "def tokenize(sentence, max_len=3000):\r\n",
        "    tokens = Tokenizer.encode_plus(sentence, max_length=max_len,\r\n",
        "                                   truncation=True, padding='max_length',\r\n",
        "                                   add_special_tokens=True, return_attention_mask=True,\r\n",
        "                                   return_token_type_ids=False, return_tensors='tf')\r\n",
        "    return tokens['input_ids'], tokens['attention_mask']\r\n",
        "\r\n",
        "def token_encode(X, max_len):\r\n",
        "  input_ids = []\r\n",
        "  masks = []\r\n",
        "  for text in X:\r\n",
        "    text_input_id, text_mask = tokenize(text, max_len=max_len)\r\n",
        "    input_ids.append(tf.reshape(text_input_id, [max_len]))\r\n",
        "    masks.append(tf.reshape(text_mask, [max_len]))\r\n",
        "  return np.array(input_ids), np.array(masks)\r\n"
      ],
      "execution_count": 13,
      "outputs": []
    },
    {
      "cell_type": "code",
      "metadata": {
        "id": "5CHKX8FiFfd7"
      },
      "source": [
        "def build_model(max_len=512, type_model='OnlyBERT'):\n",
        "  input_ids = tf.keras.layers.Input(shape=(max_len,), name='input_ids', dtype=tf.int32)\n",
        "  mask = tf.keras.layers.Input(shape=(max_len,), name='attention_mask', dtype=tf.int32)\n",
        "  \n",
        "  # By December 12th Hugging Face's Transformer Library only had the PyTorch version of BERTimbau so we needed to\n",
        "  # convert the PyTorch model to TensorFlow using the AutoConfig class and adding from_pt (from pytorch) equal to True\n",
        "  config = AutoConfig.from_pretrained('neuralmind/bert-large-portuguese-cased')\n",
        "  BERTimbau = TFAutoModel.from_pretrained('neuralmind/bert-large-portuguese-cased', from_pt=True, config=config)\n",
        "\n",
        "  last_bert_hidden_layer = BERTimbau(input_ids, attention_mask=mask)[0]\n",
        "\n",
        "  if type_model == 'OnlyBERT':\n",
        "    net = tf.keras.layers.Dense(64, activation='relu')(last_bert_hidden_layer)\n",
        "    net = tf.keras.layers.Dropout(0.2)(net)\n",
        "    net = tf.keras.layers.Flatten()(net)\n",
        "    net = tf.keras.layers.Dense(32, activation='relu')(net)\n",
        "    net = tf.keras.layers.Dropout(0.2)(net)\n",
        "    out = tf.keras.layers.Dense(1, activation='sigmoid')(net)\n",
        "\n",
        "  elif type_model == 'BERT_LSTM':\n",
        "    net = tf.keras.layers.Dense(64, activation='relu')(last_bert_hidden_layer)\n",
        "    net = tf.keras.layers.Dropout(0.2)(net)\n",
        "    net = tf.keras.layers.Dense(32, activation='relu')(net)\n",
        "    net = tf.keras.layers.Dropout(0.2)(net)\n",
        "    net = tf.keras.layers.Flatten()(net)\n",
        "    out = tf.keras.layers.Dense(1, activation='sigmoid')(net)\n",
        "\n",
        "  model = tf.keras.models.Model(inputs=[input_ids, mask], outputs=out)\n",
        "  model.compile(tf.keras.optimizers.Adam(lr=1e-5), loss='binary_crossentropy', metrics=['accuracy'])\n",
        "\n",
        "  return model"
      ],
      "execution_count": 14,
      "outputs": []
    },
    {
      "cell_type": "markdown",
      "metadata": {
        "id": "EavsnY4psvp8"
      },
      "source": [
        "# Model 3 "
      ]
    },
    {
      "cell_type": "code",
      "metadata": {
        "id": "G37sfGtYtnHt"
      },
      "source": [
        "max_len = 100\r\n",
        "\r\n",
        "X_train = token_encode(df_train['text'].to_numpy(), max_len)\r\n",
        "X_val = token_encode(df_val['text'].to_numpy(), max_len)"
      ],
      "execution_count": 22,
      "outputs": []
    },
    {
      "cell_type": "code",
      "metadata": {
        "colab": {
          "base_uri": "https://localhost:8080/"
        },
        "id": "MXJ1sbe14aFz",
        "outputId": "3ffd7597-b067-441e-df62-4dcc1e8e9993"
      },
      "source": [
        "X_train[0].shape"
      ],
      "execution_count": 31,
      "outputs": [
        {
          "output_type": "execute_result",
          "data": {
            "text/plain": [
              "(5040, 500)"
            ]
          },
          "metadata": {
            "tags": []
          },
          "execution_count": 31
        }
      ]
    },
    {
      "cell_type": "code",
      "metadata": {
        "colab": {
          "base_uri": "https://localhost:8080/"
        },
        "id": "DMt1KWp27A0m",
        "outputId": "d37763de-2a0b-4362-e358-19e71fc89c5c"
      },
      "source": [
        "X_train[1].shape"
      ],
      "execution_count": 32,
      "outputs": [
        {
          "output_type": "execute_result",
          "data": {
            "text/plain": [
              "(5040, 500)"
            ]
          },
          "metadata": {
            "tags": []
          },
          "execution_count": 32
        }
      ]
    },
    {
      "cell_type": "code",
      "metadata": {
        "colab": {
          "base_uri": "https://localhost:8080/"
        },
        "id": "bDX5L-iN0Eeu",
        "outputId": "8f250a59-2923-4fb0-e224-4a2de7940759"
      },
      "source": [
        "print(X_train[0])"
      ],
      "execution_count": 33,
      "outputs": [
        {
          "output_type": "stream",
          "text": [
            "[[  101  7461   171 ...     0     0     0]\n",
            " [  101   231 18939 ...   368  6140   102]\n",
            " [  101  8878   348 ...  8878   348   102]\n",
            " ...\n",
            " [  101 11239   458 ...     0     0     0]\n",
            " [  101 13196 22324 ...     0     0     0]\n",
            " [  101 13057   118 ...  1600   125   102]]\n"
          ],
          "name": "stdout"
        }
      ]
    },
    {
      "cell_type": "code",
      "metadata": {
        "colab": {
          "base_uri": "https://localhost:8080/"
        },
        "id": "tYn-lfxi69no",
        "outputId": "032920c1-d02c-4f9c-b520-86ab0f470ab7"
      },
      "source": [
        "print(X_train[1])"
      ],
      "execution_count": 34,
      "outputs": [
        {
          "output_type": "stream",
          "text": [
            "[[1 1 1 ... 0 0 0]\n",
            " [1 1 1 ... 1 1 1]\n",
            " [1 1 1 ... 1 1 1]\n",
            " ...\n",
            " [1 1 1 ... 0 0 0]\n",
            " [1 1 1 ... 0 0 0]\n",
            " [1 1 1 ... 1 1 1]]\n"
          ],
          "name": "stdout"
        }
      ]
    },
    {
      "cell_type": "code",
      "metadata": {
        "colab": {
          "base_uri": "https://localhost:8080/"
        },
        "id": "S8UnT5lfv_Dr",
        "outputId": "5ea2ed8d-a297-4a60-ca77-2cb52fb1cc77"
      },
      "source": [
        "model3 = build_model(max_len=max_len)\r\n",
        "model3.summary()"
      ],
      "execution_count": 23,
      "outputs": [
        {
          "output_type": "stream",
          "text": [
            "Some weights of the PyTorch model were not used when initializing the TF 2.0 model TFBertModel: ['cls.predictions.transform.dense.bias', 'cls.predictions.decoder.weight', 'cls.seq_relationship.weight', 'cls.predictions.bias', 'cls.seq_relationship.bias', 'cls.predictions.transform.LayerNorm.bias', 'cls.predictions.transform.dense.weight', 'cls.predictions.transform.LayerNorm.weight']\n",
            "- This IS expected if you are initializing TFBertModel from a PyTorch model trained on another task or with another architecture (e.g. initializing a TFBertForSequenceClassification model from a BertForPreTraining model).\n",
            "- This IS NOT expected if you are initializing TFBertModel from a PyTorch model that you expect to be exactly identical (e.g. initializing a TFBertForSequenceClassification model from a BertForSequenceClassification model).\n",
            "All the weights of TFBertModel were initialized from the PyTorch model.\n",
            "If your task is similar to the task the model of the checkpoint was trained on, you can already use TFBertModel for predictions without further training.\n",
            "The parameters `output_attentions`, `output_hidden_states` and `use_cache` cannot be updated when calling a model.They have to be set to True/False in the config object (i.e.: `config=XConfig.from_pretrained('name', output_attentions=True)`).\n",
            "The parameter `return_dict` cannot be set in graph mode and will always be set to `True`.\n"
          ],
          "name": "stderr"
        },
        {
          "output_type": "stream",
          "text": [
            "Model: \"model_2\"\n",
            "__________________________________________________________________________________________________\n",
            "Layer (type)                    Output Shape         Param #     Connected to                     \n",
            "==================================================================================================\n",
            "input_ids (InputLayer)          [(None, 100)]        0                                            \n",
            "__________________________________________________________________________________________________\n",
            "attention_mask (InputLayer)     [(None, 100)]        0                                            \n",
            "__________________________________________________________________________________________________\n",
            "tf_bert_model_2 (TFBertModel)   TFBaseModelOutputWit 334396416   input_ids[0][0]                  \n",
            "                                                                 attention_mask[0][0]             \n",
            "__________________________________________________________________________________________________\n",
            "dense_6 (Dense)                 (None, 100, 64)      65600       tf_bert_model_2[0][0]            \n",
            "__________________________________________________________________________________________________\n",
            "dropout_223 (Dropout)           (None, 100, 64)      0           dense_6[0][0]                    \n",
            "__________________________________________________________________________________________________\n",
            "flatten_2 (Flatten)             (None, 6400)         0           dropout_223[0][0]                \n",
            "__________________________________________________________________________________________________\n",
            "dense_7 (Dense)                 (None, 32)           204832      flatten_2[0][0]                  \n",
            "__________________________________________________________________________________________________\n",
            "dropout_224 (Dropout)           (None, 32)           0           dense_7[0][0]                    \n",
            "__________________________________________________________________________________________________\n",
            "dense_8 (Dense)                 (None, 1)            33          dropout_224[0][0]                \n",
            "==================================================================================================\n",
            "Total params: 334,666,881\n",
            "Trainable params: 334,666,881\n",
            "Non-trainable params: 0\n",
            "__________________________________________________________________________________________________\n"
          ],
          "name": "stdout"
        }
      ]
    },
    {
      "cell_type": "code",
      "metadata": {
        "colab": {
          "base_uri": "https://localhost:8080/"
        },
        "id": "LSaiDhzazBLl",
        "outputId": "5e668c53-be9f-440e-bbce-d142d4281378"
      },
      "source": [
        "train_history_3 = model3.fit(\r\n",
        "    X_train, Y_train, \r\n",
        "    validation_data=(X_val, Y_val),\r\n",
        "    epochs=10,\r\n",
        "    batch_size=8,\r\n",
        "    verbose=1\r\n",
        ")"
      ],
      "execution_count": 24,
      "outputs": [
        {
          "output_type": "stream",
          "text": [
            "The parameters `output_attentions`, `output_hidden_states` and `use_cache` cannot be updated when calling a model.They have to be set to True/False in the config object (i.e.: `config=XConfig.from_pretrained('name', output_attentions=True)`).\n",
            "The parameter `return_dict` cannot be set in graph mode and will always be set to `True`.\n"
          ],
          "name": "stderr"
        },
        {
          "output_type": "stream",
          "text": [
            "Epoch 1/10\n",
            "WARNING:tensorflow:Gradients do not exist for variables ['tf_bert_model_2/bert/pooler/dense/kernel:0', 'tf_bert_model_2/bert/pooler/dense/bias:0'] when minimizing the loss.\n"
          ],
          "name": "stdout"
        },
        {
          "output_type": "stream",
          "text": [
            "The parameters `output_attentions`, `output_hidden_states` and `use_cache` cannot be updated when calling a model.They have to be set to True/False in the config object (i.e.: `config=XConfig.from_pretrained('name', output_attentions=True)`).\n",
            "The parameter `return_dict` cannot be set in graph mode and will always be set to `True`.\n"
          ],
          "name": "stderr"
        },
        {
          "output_type": "stream",
          "text": [
            "WARNING:tensorflow:Gradients do not exist for variables ['tf_bert_model_2/bert/pooler/dense/kernel:0', 'tf_bert_model_2/bert/pooler/dense/bias:0'] when minimizing the loss.\n",
            "630/630 [==============================] - ETA: 0s - loss: 0.4215 - accuracy: 0.7554"
          ],
          "name": "stdout"
        },
        {
          "output_type": "stream",
          "text": [
            "The parameters `output_attentions`, `output_hidden_states` and `use_cache` cannot be updated when calling a model.They have to be set to True/False in the config object (i.e.: `config=XConfig.from_pretrained('name', output_attentions=True)`).\n",
            "The parameter `return_dict` cannot be set in graph mode and will always be set to `True`.\n"
          ],
          "name": "stderr"
        },
        {
          "output_type": "stream",
          "text": [
            "\b\b\b\b\b\b\b\b\b\b\b\b\b\b\b\b\b\b\b\b\b\b\b\b\b\b\b\b\b\b\b\b\b\b\b\b\b\b\b\b\b\b\b\b\b\b\b\b\b\b\b\b\b\b\b\b\b\b\b\b\b\b\b\b\b\b\b\b\b\b\b\b\b\b\b\b\b\b\b\b\b\b\b\b\r630/630 [==============================] - 488s 746ms/step - loss: 0.4212 - accuracy: 0.7557 - val_loss: 0.0552 - val_accuracy: 0.9815\n",
            "Epoch 2/10\n",
            "630/630 [==============================] - 465s 738ms/step - loss: 0.0450 - accuracy: 0.9869 - val_loss: 0.0511 - val_accuracy: 0.9833\n",
            "Epoch 3/10\n",
            "630/630 [==============================] - 463s 736ms/step - loss: 0.0178 - accuracy: 0.9950 - val_loss: 0.1979 - val_accuracy: 0.9676\n",
            "Epoch 4/10\n",
            "630/630 [==============================] - 464s 737ms/step - loss: 0.0120 - accuracy: 0.9964 - val_loss: 0.0591 - val_accuracy: 0.9833\n",
            "Epoch 5/10\n",
            "630/630 [==============================] - 463s 735ms/step - loss: 0.0069 - accuracy: 0.9983 - val_loss: 0.0470 - val_accuracy: 0.9861\n",
            "Epoch 6/10\n",
            "630/630 [==============================] - 464s 737ms/step - loss: 0.0069 - accuracy: 0.9972 - val_loss: 0.0981 - val_accuracy: 0.9801\n",
            "Epoch 7/10\n",
            "630/630 [==============================] - 463s 736ms/step - loss: 0.0029 - accuracy: 0.9996 - val_loss: 0.0650 - val_accuracy: 0.9847\n",
            "Epoch 8/10\n",
            "630/630 [==============================] - 462s 733ms/step - loss: 0.0204 - accuracy: 0.9951 - val_loss: 0.0712 - val_accuracy: 0.9824\n",
            "Epoch 9/10\n",
            "630/630 [==============================] - 459s 729ms/step - loss: 5.7979e-04 - accuracy: 1.0000 - val_loss: 0.0741 - val_accuracy: 0.9875\n",
            "Epoch 10/10\n",
            "630/630 [==============================] - 458s 727ms/step - loss: 0.0017 - accuracy: 0.9995 - val_loss: 0.0392 - val_accuracy: 0.9898\n"
          ],
          "name": "stdout"
        }
      ]
    },
    {
      "cell_type": "code",
      "metadata": {
        "colab": {
          "base_uri": "https://localhost:8080/"
        },
        "id": "U6wCm9h6pGqg",
        "outputId": "7539ce19-c9ec-4982-ed32-cec208c65f8e"
      },
      "source": [
        "Y_test = model3.predict(X_val)"
      ],
      "execution_count": 25,
      "outputs": [
        {
          "output_type": "stream",
          "text": [
            "The parameters `output_attentions`, `output_hidden_states` and `use_cache` cannot be updated when calling a model.They have to be set to True/False in the config object (i.e.: `config=XConfig.from_pretrained('name', output_attentions=True)`).\n",
            "The parameter `return_dict` cannot be set in graph mode and will always be set to `True`.\n"
          ],
          "name": "stderr"
        }
      ]
    },
    {
      "cell_type": "code",
      "metadata": {
        "id": "GUwspldWqEGW"
      },
      "source": [
        "def y_ajust(y):\r\n",
        "  y_hat = []\r\n",
        "  for x in y:\r\n",
        "    if x >= 0.5:\r\n",
        "      y_hat.append(1)\r\n",
        "    else:\r\n",
        "      y_hat.append(0)\r\n",
        "  return y_hat"
      ],
      "execution_count": 29,
      "outputs": []
    },
    {
      "cell_type": "code",
      "metadata": {
        "colab": {
          "base_uri": "https://localhost:8080/"
        },
        "id": "TLFrNCw6pwax",
        "outputId": "4d9e850f-2e97-4118-ecdf-a22132859a26"
      },
      "source": [
        "from sklearn import metrics\r\n",
        "Y_test = y_ajust(Y_test)\r\n",
        "conf_matrix = metrics.confusion_matrix(Y_val, Y_test)\r\n",
        "print(conf_matrix)\r\n",
        "print(metrics.classification_report(Y_val, Y_test, digits=2))"
      ],
      "execution_count": 40,
      "outputs": [
        {
          "output_type": "stream",
          "text": [
            "[[1067   13]\n",
            " [   9 1071]]\n",
            "              precision    recall  f1-score   support\n",
            "\n",
            "           0       0.99      0.99      0.99      1080\n",
            "           1       0.99      0.99      0.99      1080\n",
            "\n",
            "    accuracy                           0.99      2160\n",
            "   macro avg       0.99      0.99      0.99      2160\n",
            "weighted avg       0.99      0.99      0.99      2160\n",
            "\n"
          ],
          "name": "stdout"
        }
      ]
    },
    {
      "cell_type": "code",
      "metadata": {
        "colab": {
          "base_uri": "https://localhost:8080/",
          "height": 296
        },
        "id": "zQPAC0eap6Bp",
        "outputId": "5297d862-f6b5-4372-8652-d6aa45a4fee6"
      },
      "source": [
        "metrics.ConfusionMatrixDisplay(conf_matrix, display_labels=[0,1]).plot()"
      ],
      "execution_count": 41,
      "outputs": [
        {
          "output_type": "execute_result",
          "data": {
            "text/plain": [
              "<sklearn.metrics._plot.confusion_matrix.ConfusionMatrixDisplay at 0x7f5666284cc0>"
            ]
          },
          "metadata": {
            "tags": []
          },
          "execution_count": 41
        },
        {
          "output_type": "display_data",
          "data": {
            "image/png": "[encoded data removed]",
            "text/plain": [
              "<Figure size 432x288 with 2 Axes>"
            ]
          },
          "metadata": {
            "tags": [],
            "needs_background": "light"
          }
        }
      ]
    },
    {
      "cell_type": "code",
      "metadata": {
        "id": "VHiV9vo_rZiF"
      },
      "source": [
        "import matplotlib.pyplot as plt\r\n",
        "\r\n",
        "\r\n",
        "def plot_graphs(history, string):\r\n",
        "  plt.plot(history.history[string])\r\n",
        "  plt.plot(history.history['val_'+string])\r\n",
        "  plt.xlabel(\"Epochs\")\r\n",
        "  plt.ylabel(string)\r\n",
        "  plt.legend([string, 'val_'+string])\r\n",
        "  plt.show()\r\n",
        "  print(\"history.history[string]\")\r\n",
        "  print(history.history[string])\r\n",
        "  print(\"history.history['val_'+string]\")\r\n",
        "  print(history.history['val_'+string])"
      ],
      "execution_count": 34,
      "outputs": []
    },
    {
      "cell_type": "code",
      "metadata": {
        "colab": {
          "base_uri": "https://localhost:8080/",
          "height": 366
        },
        "id": "z8dP2Z2brccw",
        "outputId": "e0b4c029-262d-486d-eafa-fbe751f5ec5e"
      },
      "source": [
        "plot_graphs(train_history_3, \"accuracy\")"
      ],
      "execution_count": 36,
      "outputs": [
        {
          "output_type": "display_data",
          "data": {
            "image/png": "[encoded data removed]",
            "text/plain": [
              "<Figure size 432x288 with 1 Axes>"
            ]
          },
          "metadata": {
            "tags": [],
            "needs_background": "light"
          }
        },
        {
          "output_type": "stream",
          "text": [
            "history.history[string]\n",
            "[0.8908730149269104, 0.9865079522132874, 0.9952380657196045, 0.9962301850318909, 0.9960317611694336, 0.997420608997345, 0.9992063641548157, 0.9948412775993347, 1.0, 0.9978174567222595]\n",
            "history.history['val_'+string]\n",
            "[0.9814814925193787, 0.9833333492279053, 0.9675925970077515, 0.9833333492279053, 0.9861111044883728, 0.9800925850868225, 0.9847221970558167, 0.9824073910713196, 0.987500011920929, 0.989814817905426]\n"
          ],
          "name": "stdout"
        }
      ]
    },
    {
      "cell_type": "code",
      "metadata": {
        "colab": {
          "base_uri": "https://localhost:8080/",
          "height": 366
        },
        "id": "nTKYdSemriEs",
        "outputId": "d0fad2ea-80f0-4c09-fcf1-cce180f4d842"
      },
      "source": [
        "plot_graphs(train_history_3, \"loss\")"
      ],
      "execution_count": 38,
      "outputs": [
        {
          "output_type": "display_data",
          "data": {
            "image/png": "[encoded data removed]",
            "text/plain": [
              "<Figure size 432x288 with 1 Axes>"
            ]
          },
          "metadata": {
            "tags": [],
            "needs_background": "light"
          }
        },
        {
          "output_type": "stream",
          "text": [
            "history.history[string]\n",
            "[0.22132423520088196, 0.04194885119795799, 0.015838997438549995, 0.014973664656281471, 0.011598609387874603, 0.008204338140785694, 0.005286864470690489, 0.02080271951854229, 0.0004754793189931661, 0.00729760155081749]\n",
            "history.history['val_'+string]\n",
            "[0.05520413815975189, 0.051068708300590515, 0.1979033350944519, 0.05914086103439331, 0.04700846970081329, 0.09806680679321289, 0.06501846015453339, 0.07120331376791, 0.07412153482437134, 0.0391564778983593]\n"
          ],
          "name": "stdout"
        }
      ]
    },
    {
      "cell_type": "markdown",
      "metadata": {
        "id": "QWC79ZYI2qms"
      },
      "source": [
        "# Gráficos"
      ]
    },
    {
      "cell_type": "code",
      "metadata": {
        "id": "Cxd4-a5E2ua_"
      },
      "source": [
        "Data = [0, 50, 504, 1260, 2520, 3780, 5040]\r\n",
        "DecisionTree_acc = [0.7, 0.74, 0.86, 0.88, 0.88, 0.89, 0.89]\r\n",
        "MultinomialNB_acc = [0.7, 0.60, 0.55, 0.56, 0.58, 0.60, 0.61]\r\n",
        "LinearSVM_acc = [0.7, 0.80, 0.94, 0.96, 0.97, 0.97, 0.97]\r\n",
        "BERTimbau_acc = [0.7, 0.7, 0.9690, 0.9810, 0.9870, 0.9898, 0.9898]\r\n",
        "\r\n",
        "BERTimbau_acc_data01 = [0.43, 0.4399999976158142, 0.6600000262260437, 0.6800000071525574, 0.8799999952316284, 0.8999999761581421, 0.8799999952316284, 0.9200000166893005, 0.9599999785423279, 0.9399999976158142, 0.9399999976158142]\r\n",
        "BERTimbau_val_acc_data01 = [0.54, 0.5412036776542664, 0.5546296238899231, 0.5703703761100769, 0.585185170173645, 0.5995370149612427, 0.6078703999519348, 0.6115740537643433, 0.614814817905426, 0.6171296238899231, 0.6226851940155029]\r\n",
        "BERTimbau_loss_data01 = [0.89, 0.8851050734519958, 0.6188353896141052, 0.5191001296043396, 0.4350764751434326, 0.3628179132938385, 0.3419489562511444, 0.31037214398384094, 0.2994459867477417, 0.2625374495983124, 0.21762198209762573]\r\n",
        "BERTimbau_val_loss_data01 = [0.71, 0.7012038230895996, 0.6877313852310181, 0.6789808869361877, 0.6717474460601807, 0.6656433939933777, 0.6605444550514221, 0.6557763814926147, 0.6516572833061218, 0.6461851596832275, 0.6408510208129883]\r\n",
        "\r\n",
        "BERTimbau_acc_data10 = [0.43, 0.488095223903656, 0.7658730149269104, 0.932539701461792, 0.9563491940498352, 0.9920634627342224, 0.9900793433189392, 0.9940476417541504, 0.9980158805847168, 0.9940476417541504, 1.0]\r\n",
        "BERTimbau_val_acc_data10 = [0.54, 0.6101852059364319, 0.7194444537162781, 0.8407407402992249, 0.9087963104248047, 0.9370370507240295, 0.949999988079071, 0.9393518567085266, 0.9689815044403076, 0.9435185194015503, 0.9587963223457336]\r\n",
        "BERTimbau_loss_data10 = [0.89, 0.7652697563171387, 0.49237221479415894, 0.292572557926178, 0.15827766060829163, 0.04770412668585777, 0.02893701009452343, 0.019287649542093277, 0.009804250672459602, 0.018883654847741127, 0.008372065611183643]\r\n",
        "BERTimbau_val_loss_data10 = [0.71, 0.6490412950515747, 0.5570694804191589, 0.4044719338417053, 0.22976598143577576, 0.16625875234603882, 0.1576279103755951, 0.20878316462039948, 0.1133430078625679, 0.21271999180316925, 0.14591379463672638]\r\n",
        "\r\n",
        "BERTimbau_acc_data25 = [0.43, 0.6476190686225891, 0.9396825432777405, 0.988095223903656, 0.9912698268890381, 0.9928571581840515, 0.9992063641548157, 1.0, 0.9968253970146179, 0.9936507940292358, 0.9968253970146179]\r\n",
        "BERTimbau_val_acc_data25 = [0.54, 0.852314829826355, 0.9486111402511597, 0.9782407283782959, 0.9615740776062012, 0.9652777910232544, 0.9740740656852722, 0.9800925850868225, 0.9699074029922485, 0.9800925850868225, 0.9810185432434082]\r\n",
        "BERTimbau_loss_data25 = [0.89, 0.6351717710494995, 0.17442749440670013, 0.05842188745737076, 0.022013569250702858, 0.023522455245256424, 0.006860777735710144, 0.0012756538344547153, 0.014750098809599876, 0.016322530806064606, 0.01224109623581171]\r\n",
        "BERTimbau_val_loss_data25 = [0.71, 0.40786299109458923, 0.18337266147136688, 0.08396180719137192, 0.1544930785894394, 0.13318322598934174, 0.10748650878667831, 0.11200269311666489, 0.1069072037935257, 0.07900846004486084, 0.06896888464689255]\r\n",
        "\r\n",
        "BERTimbau_acc_data50 = [0.43, 0.7273809313774109, 0.980555534362793, 0.9916666746139526, 0.992460310459137, 0.9968253970146179, 0.9992063641548157, 0.9996031522750854, 0.9960317611694336, 0.9944444298744202, 1.0]\r\n",
        "BERTimbau_val_acc_data50 = [0.54, 0.9481481313705444, 0.9768518805503845, 0.9777777791023254, 0.9837962985038757, 0.9791666865348816, 0.9851852059364319, 0.9865740537643433, 0.9680555462837219, 0.9861111044883728, 0.9870370626449585]\r\n",
        "BERTimbau_loss_data50 = [0.89, 0.49671128392219543, 0.06372349709272385, 0.025941818952560425, 0.02175762504339218, 0.013828498311340809, 0.004720108117908239, 0.0013413741253316402, 0.012191345915198326, 0.019330011680722237, 0.0019276624079793692]\r\n",
        "BERTimbau_val_loss_data50 = [0.71, 0.14898085594177246, 0.07207668572664261, 0.08165085315704346, 0.06298495829105377, 0.07598171383142471, 0.07458097487688065, 0.0787261351943016, 0.1351172924041748, 0.04589734971523285, 0.06398504227399826]\r\n",
        "\r\n",
        "BERTimbau_acc_data75 = [0.43, 0.8558201193809509, 0.9865079522132874, 0.9894179701805115, 0.9984126687049866, 0.9965608716011047, 0.9965608716011047, 0.9984126687049866, 0.9968253970146179, 0.9997354745864868, 0.9997354745864868]\r\n",
        "BERTimbau_val_acc_data75 = [0.54, 0.9791666865348816, 0.9731481671333313, 0.9731481671333313, 0.9879629611968994, 0.9888888597488403, 0.9851852059364319, 0.9694444537162781, 0.9856481552124023, 0.989814817905426, 0.9893518686294556]\r\n",
        "BERTimbau_loss_data75 = [0.89, 0.2897211015224457, 0.04729680344462395, 0.030509669333696365, 0.007511806208640337, 0.01234954223036766, 0.008608275093138218, 0.006973716896027327, 0.011105944402515888, 0.0008298031170852482, 0.0006282267859205604]\r\n",
        "BERTimbau_val_loss_data75 = [0.71, 0.0662703737616539, 0.1101440042257309, 0.10400038957595825, 0.04604407027363777, 0.053235579282045364, 0.05120529606938362, 0.13997609913349152, 0.05457942560315132, 0.055054765194654465, 0.06256777048110962]\r\n",
        "\r\n",
        "BERTimbau_acc_data100 = [0.43, 0.8908730149269104, 0.9865079522132874, 0.9952380657196045, 0.9962301850318909, 0.9960317611694336, 0.997420608997345, 0.9992063641548157, 0.9948412775993347, 1.0, 0.9978174567222595]\r\n",
        "BERTimbau_val_acc_data100 = [0.54, 0.9814814925193787, 0.9833333492279053, 0.9675925970077515, 0.9833333492279053, 0.9861111044883728, 0.9800925850868225, 0.9847221970558167, 0.9824073910713196, 0.987500011920929, 0.989814817905426]\r\n",
        "BERTimbau_loss_data100 = [0.89, 0.22132423520088196, 0.04194885119795799, 0.015838997438549995, 0.014973664656281471, 0.011598609387874603, 0.008204338140785694, 0.005286864470690489, 0.02080271951854229, 0.0004754793189931661, 0.00729760155081749]\r\n",
        "BERTimbau_val_loss_data100 = [0.71, 0.05520413815975189, 0.051068708300590515, 0.1979033350944519, 0.05914086103439331, 0.04700846970081329, 0.09806680679321289, 0.06501846015453339, 0.07120331376791, 0.07412153482437134, 0.0391564778983593]\r\n",
        "\r\n",
        "\r\n"
      ],
      "execution_count": 39,
      "outputs": []
    },
    {
      "cell_type": "code",
      "metadata": {
        "colab": {
          "base_uri": "https://localhost:8080/",
          "height": 297
        },
        "id": "Z2ytdzj4_bDW",
        "outputId": "d69d64e6-dab3-4782-d417-cac775300135"
      },
      "source": [
        "plt.plot(Data, DecisionTree_acc)\r\n",
        "plt.plot(Data, LinearSVM_acc)\r\n",
        "plt.plot(Data, BERTimbau_acc)\r\n",
        "plt.xlabel(\"Training Data Size\")\r\n",
        "plt.ylabel(\"Accuracy\")\r\n",
        "plt.legend([\"Decision Tree\", \"Linear SVM\", \"BERTimbau\"])"
      ],
      "execution_count": 14,
      "outputs": [
        {
          "output_type": "execute_result",
          "data": {
            "text/plain": [
              "<matplotlib.legend.Legend at 0x7f96661457b8>"
            ]
          },
          "metadata": {
            "tags": []
          },
          "execution_count": 14
        },
        {
          "output_type": "display_data",
          "data": {
            "image/png": "[encoded data removed]",
            "text/plain": [
              "<Figure size 432x288 with 1 Axes>"
            ]
          },
          "metadata": {
            "tags": [],
            "needs_background": "light"
          }
        }
      ]
    },
    {
      "cell_type": "code",
      "metadata": {
        "colab": {
          "base_uri": "https://localhost:8080/",
          "height": 296
        },
        "id": "e0K3i_wcFW_G",
        "outputId": "3fcc4f70-40f2-4398-c906-df02e92a741e"
      },
      "source": [
        "Epochs = [0,1,2,3,4,5,6,7,8,9,10]\r\n",
        "plt.plot(Epochs, BERTimbau_acc_data01)\r\n",
        "plt.plot(Epochs, BERTimbau_acc_data10)\r\n",
        "plt.plot(Epochs, BERTimbau_acc_data25)\r\n",
        "plt.plot(Epochs, BERTimbau_acc_data50)\r\n",
        "plt.plot(Epochs, BERTimbau_acc_data75)\r\n",
        "plt.plot(Epochs, BERTimbau_acc_data100)\r\n",
        "plt.xlabel(\"Epochs\")\r\n",
        "plt.ylabel(\"Training Acc\")\r\n",
        "plt.legend([\"1%\", \"10%\", \"25%\", \"50%\", \"75%\", \"100%\"])"
      ],
      "execution_count": 34,
      "outputs": [
        {
          "output_type": "execute_result",
          "data": {
            "text/plain": [
              "<matplotlib.legend.Legend at 0x7f964f4ce400>"
            ]
          },
          "metadata": {
            "tags": []
          },
          "execution_count": 34
        },
        {
          "output_type": "display_data",
          "data": {
            "image/png": "[encoded data removed]",
            "text/plain": [
              "<Figure size 432x288 with 1 Axes>"
            ]
          },
          "metadata": {
            "tags": [],
            "needs_background": "light"
          }
        }
      ]
    },
    {
      "cell_type": "code",
      "metadata": {
        "colab": {
          "base_uri": "https://localhost:8080/",
          "height": 296
        },
        "id": "1UnZ27w0G6oR",
        "outputId": "8181006c-6efb-43f5-cf61-3fada42fd3c9"
      },
      "source": [
        "Epochs = [0,1,2,3,4,5,6,7,8,9,10]\r\n",
        "plt.plot(Epochs, BERTimbau_val_acc_data01)\r\n",
        "plt.plot(Epochs, BERTimbau_val_acc_data10)\r\n",
        "plt.plot(Epochs, BERTimbau_val_acc_data25)\r\n",
        "plt.plot(Epochs, BERTimbau_val_acc_data50)\r\n",
        "plt.plot(Epochs, BERTimbau_val_acc_data75)\r\n",
        "plt.plot(Epochs, BERTimbau_val_acc_data100)\r\n",
        "plt.xlabel(\"Epochs\")\r\n",
        "plt.ylabel(\"Validation Acc\")\r\n",
        "plt.legend([\"1%\", \"10%\", \"25%\", \"50%\", \"75%\", \"100%\"])"
      ],
      "execution_count": 35,
      "outputs": [
        {
          "output_type": "execute_result",
          "data": {
            "text/plain": [
              "<matplotlib.legend.Legend at 0x7f964f454cf8>"
            ]
          },
          "metadata": {
            "tags": []
          },
          "execution_count": 35
        },
        {
          "output_type": "display_data",
          "data": {
            "image/png": "[encoded data removed]",
            "text/plain": [
              "<Figure size 432x288 with 1 Axes>"
            ]
          },
          "metadata": {
            "tags": [],
            "needs_background": "light"
          }
        }
      ]
    },
    {
      "cell_type": "code",
      "metadata": {
        "colab": {
          "base_uri": "https://localhost:8080/",
          "height": 296
        },
        "id": "7jPPR_MvHV8a",
        "outputId": "ccb45568-d2c7-42ba-d068-00a8070f4819"
      },
      "source": [
        "Epochs = [0,1,2,3,4,5,6,7,8,9,10]\r\n",
        "plt.plot(Epochs, BERTimbau_loss_data01)\r\n",
        "plt.plot(Epochs, BERTimbau_loss_data10)\r\n",
        "plt.plot(Epochs, BERTimbau_loss_data25)\r\n",
        "plt.plot(Epochs, BERTimbau_loss_data50)\r\n",
        "plt.plot(Epochs, BERTimbau_loss_data75)\r\n",
        "plt.plot(Epochs, BERTimbau_loss_data100)\r\n",
        "plt.xlabel(\"Epochs\")\r\n",
        "plt.ylabel(\"Training Loss\")\r\n",
        "plt.legend([\"1%\", \"10%\", \"25%\", \"50%\", \"75%\", \"100%\"])"
      ],
      "execution_count": 38,
      "outputs": [
        {
          "output_type": "execute_result",
          "data": {
            "text/plain": [
              "<matplotlib.legend.Legend at 0x7f964f3a8dd8>"
            ]
          },
          "metadata": {
            "tags": []
          },
          "execution_count": 38
        },
        {
          "output_type": "display_data",
          "data": {
            "image/png": "[encoded data removed]",
            "text/plain": [
              "<Figure size 432x288 with 1 Axes>"
            ]
          },
          "metadata": {
            "tags": [],
            "needs_background": "light"
          }
        }
      ]
    },
    {
      "cell_type": "code",
      "metadata": {
        "colab": {
          "base_uri": "https://localhost:8080/",
          "height": 296
        },
        "id": "eBhchc5EHxws",
        "outputId": "7f75592b-7968-422e-deed-cb6e07e94f2b"
      },
      "source": [
        "Epochs = [0,1,2,3,4,5,6,7,8,9,10]\r\n",
        "plt.plot(Epochs, BERTimbau_val_loss_data01)\r\n",
        "plt.plot(Epochs, BERTimbau_val_loss_data10)\r\n",
        "plt.plot(Epochs, BERTimbau_val_loss_data25)\r\n",
        "plt.plot(Epochs, BERTimbau_val_loss_data50)\r\n",
        "plt.plot(Epochs, BERTimbau_val_loss_data75)\r\n",
        "plt.plot(Epochs, BERTimbau_val_loss_data100)\r\n",
        "plt.xlabel(\"Epochs\")\r\n",
        "plt.ylabel(\"Validation Loss\")\r\n",
        "plt.legend([\"1%\", \"10%\", \"25%\", \"50%\", \"75%\", \"100%\"])"
      ],
      "execution_count": 40,
      "outputs": [
        {
          "output_type": "execute_result",
          "data": {
            "text/plain": [
              "<matplotlib.legend.Legend at 0x7f964f60c438>"
            ]
          },
          "metadata": {
            "tags": []
          },
          "execution_count": 40
        },
        {
          "output_type": "display_data",
          "data": {
            "image/png": "[encoded data removed]",
            "text/plain": [
              "<Figure size 432x288 with 1 Axes>"
            ]
          },
          "metadata": {
            "tags": [],
            "needs_background": "light"
          }
        }
      ]
    }
  ]
}